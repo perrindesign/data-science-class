{
 "cells": [
  {
   "cell_type": "markdown",
   "metadata": {},
   "source": [
    "# Homework 2\n",
    "\n",
    "### Due: Wed Nov. 6 @ 11:59pm"
   ]
  },
  {
   "cell_type": "markdown",
   "metadata": {},
   "source": [
    "In this homework we will be performing model evaluation, model selection and feature selection in both a regression and classification setting.\n",
    "\n",
    "The data we will be looking at are a small set of home sales data from as we might see on a real-estate website.\n",
    "\n",
    "\n",
    "## Instructions\n",
    "\n",
    "Follow the comments below and fill in the blanks (\\_\\_\\_\\_) to complete.\n",
    "\n",
    "Please 'Restart and Run All' prior to submission.\n",
    "\n",
    "Out of 65 points total."
   ]
  },
  {
   "cell_type": "markdown",
   "metadata": {},
   "source": [
    "## Part 0: Environment Setup"
   ]
  },
  {
   "cell_type": "code",
   "execution_count": 1,
   "metadata": {},
   "outputs": [],
   "source": [
    "# 1. (2pts) Set up our environment with comman libraries and plotting.\n",
    "#    Note: generally we would do all of our imports here but some imports\n",
    "#    have been left till later where they are used.\n",
    "\n",
    "# Import numpy, pandas and matplotlib.pylab\n",
    "import pandas as pd\n",
    "import numpy as np\n",
    "import matplotlib.pylab as plt\n",
    "\n",
    "# Execute the matplotlib magic function to display plots inline\n",
    "%matplotlib inline\n",
    "\n",
    "# Setting a seed for numpy random\n",
    "np.random.seed(123)"
   ]
  },
  {
   "cell_type": "markdown",
   "metadata": {},
   "source": [
    "## Part 1: Regression"
   ]
  },
  {
   "cell_type": "markdown",
   "metadata": {},
   "source": [
    "In Part 1 we will try to predict a real value home sale price using several models."
   ]
  },
  {
   "cell_type": "code",
   "execution_count": 2,
   "metadata": {},
   "outputs": [],
   "source": [
    "# 2. (3pts) Load and prepare our data.\n",
    "\n",
    "# Read in the csv file house_sales_subset.csv\n",
    "df = pd.read_csv(\"../data/house_sales_subset.csv\")\n",
    "\n",
    "# Extract the dataframe X which should contains the first 5 columns:\n",
    "#    'SqFtTotLiving_x1000', 'SqFtLot_x1000', 'SqFtDriveway_x1000', 'Bathrooms', 'Bedrooms'\n",
    "X = df.iloc[:,0:5]\n",
    "\n",
    "# Extract the series y_r which should contain only the last column AdjSalePrice_x100000\n",
    "#    Note: the '_r' here is denote the different target for regression vs. classification\n",
    "y_r = df['AdjSalePrice_x100000']"
   ]
  },
  {
   "cell_type": "code",
   "execution_count": 3,
   "metadata": {},
   "outputs": [
    {
     "name": "stdout",
     "output_type": "stream",
     "text": [
      "test set size: 0.20\n"
     ]
    }
   ],
   "source": [
    "# 3. (4pts) Create a held-aside set.\n",
    "\n",
    "# Import train_test_split from sklearn.model_selection\n",
    "from sklearn.model_selection import train_test_split\n",
    "\n",
    "# Split into 80% train and 20% test using train_test_split \n",
    "#   Use random_state=42 for grading consistency\n",
    "X_train_r, X_test_r, y_train_r, y_test_r = train_test_split(X,y_r,test_size=.2,random_state=42)\n",
    "\n",
    "# Print out the the length of y_test_r divided by the length y_r to confirm our test set size.\n",
    "#    Only show 2 significant digits (eg: 0.11).\n",
    "print('test set size: {:.2f}'.format(y_test_r.shape[0]/y_r.shape[0]))"
   ]
  },
  {
   "cell_type": "markdown",
   "metadata": {},
   "source": [
    "### Part 1.1 Baseline Regressor"
   ]
  },
  {
   "cell_type": "code",
   "execution_count": 4,
   "metadata": {},
   "outputs": [
    {
     "name": "stdout",
     "output_type": "stream",
     "text": [
      "dummy training set R2: -0.06\n"
     ]
    }
   ],
   "source": [
    "# 4. (4pt) Create a Dummy Regressior for baseline comparison\n",
    "\n",
    "# Import the DummyRegressor model from sklearn \n",
    "from sklearn.dummy import DummyRegressor\n",
    "\n",
    "# Instantiate a dummy model using strategy=\"median\"\n",
    "dummy_r = DummyRegressor(strategy='median')\n",
    "\n",
    "# Train the dummy model on the training set created above\n",
    "dummy_r.fit(X_train_r,y_train_r)\n",
    "\n",
    "# Calculate and print the training set R2 score of the trained model.\n",
    "dummy_r_training_r2 = dummy_r.score(X_test_r,y_test_r)\n",
    "\n",
    "print('dummy training set R2: {:.2f}'.format(dummy_r_training_r2))"
   ]
  },
  {
   "cell_type": "code",
   "execution_count": 5,
   "metadata": {},
   "outputs": [],
   "source": [
    "# 5. (4pts) Use 5-fold Cross Validation to get a set of negative-MSE scores\n",
    "\n",
    "# Import cross_val_score from sklearn.\n",
    "from sklearn.model_selection import cross_val_score\n",
    "\n",
    "# Generate 5-fold cross valication neg_mean_squared_error scores\n",
    "#    for the Dummy model on the training set.\n",
    "dummy_r_negmse_cvscores = cross_val_score(dummy_r, X_train_r, y_train_r, cv=5,scoring='neg_mean_squared_error')"
   ]
  },
  {
   "cell_type": "code",
   "execution_count": 6,
   "metadata": {},
   "outputs": [],
   "source": [
    "# 6. (4pts) Since we'll need to convert from negative-MSE to RMSE several times\n",
    "#     write a function that takes in a list of negative-MSE scores \n",
    "#     and returns positive mean RMSE and 2 times the standard deviation\n",
    "\n",
    "def negmse_to_rmse(negmse_cvscores):\n",
    "    \n",
    "    # Flip the cv scores from negative to positive\n",
    "    mse_cvscores = -negmse_cvscores\n",
    "\n",
    "    # Transform the cv scores from MSE to RMSE\n",
    "    rmse_cvscores = np.sqrt(mse_cvscores)\n",
    "\n",
    "    # Calculate the mean RMSE over rmse_cvscores\n",
    "    rmse_mean = np.mean(rmse_cvscores)\n",
    "\n",
    "    # Calculate 2 standard deviations of rmse_cvscores\n",
    "    rmse_2std = 2*np.std(rmse_cvscores)\n",
    "    \n",
    "    return(rmse_mean,rmse_2std)"
   ]
  },
  {
   "cell_type": "code",
   "execution_count": 7,
   "metadata": {},
   "outputs": [
    {
     "name": "stdout",
     "output_type": "stream",
     "text": [
      "dummy mean cv RMSE: 2.28 +- 0.35\n"
     ]
    }
   ],
   "source": [
    "# 7. (2pts) Use our negmse_to_rmse function to calculate mean-RMSE \n",
    "#     and standard deviations for the dummy model.\n",
    "\n",
    "# Pass dummy_r_negmse_cvscores to our function and capture the output\n",
    "dummy_r_rmse,dummy_r_rmse_2std = negmse_to_rmse(dummy_r_negmse_cvscores)\n",
    "\n",
    "# Print out the mean RMSE and 2 standard variations for the dummy model\n",
    "print('dummy mean cv RMSE: {:.2f} +- {:.2f}'.format(dummy_r_rmse,dummy_r_rmse_2std))"
   ]
  },
  {
   "cell_type": "markdown",
   "metadata": {},
   "source": [
    "### Part 1.2 Linear Regression and Residuals"
   ]
  },
  {
   "cell_type": "code",
   "execution_count": 8,
   "metadata": {},
   "outputs": [
    {
     "name": "stdout",
     "output_type": "stream",
     "text": [
      "lr mean cv RMSE: 1.54 +- 0.20\n"
     ]
    }
   ],
   "source": [
    "# 8. (4pts) Import the Linear Regression model and calculate mean RMSE using 5-fold Cross Validation\n",
    "\n",
    "# Import the LinearRegression model from sklearn\n",
    "from sklearn.linear_model import LinearRegression\n",
    "\n",
    "# Generate 5-fold cv neg_mean_squared_error scores \n",
    "#   for the LinearRegression model with default settings\n",
    "#   on the training set.\n",
    "lr_negmse_cvscores = cross_val_score(LinearRegression(), X_train_r, y_train_r, cv=5,scoring='neg_mean_squared_error')\n",
    "\n",
    "# Use the function we wrote above to get mean RMSE and 2 standard deviations for LinearRegression.\n",
    "lr_rmse,lr_rmse_2std = negmse_to_rmse(lr_negmse_cvscores)\n",
    "\n",
    "# Print out the mean RMSE and 2 standard variations for LinearRegression\n",
    "print('lr mean cv RMSE: {:.2f} +- {:.2f}'.format(lr_rmse,lr_rmse_2std))"
   ]
  },
  {
   "cell_type": "code",
   "execution_count": 9,
   "metadata": {},
   "outputs": [
    {
     "data": {
      "text/plain": [
       "Text(0, 0.5, 'residuals')"
      ]
     },
     "execution_count": 9,
     "metadata": {},
     "output_type": "execute_result"
    },
    {
     "data": {
      "image/png": "[encoded data removed]",
      "text/plain": [
       "<Figure size 432x288 with 1 Axes>"
      ]
     },
     "metadata": {
      "needs_background": "light"
     },
     "output_type": "display_data"
    }
   ],
   "source": [
    "# 9.(6pts) Plot the residuals of a Linear Regression model\n",
    "\n",
    "# Instantiate and retrain a linear regression model on the entire training set.\n",
    "lr = LinearRegression().fit(X_train_r,y_train_r)\n",
    "\n",
    "# Generate predictions y_pred, again using the training set.\n",
    "y_pred = lr.predict(X_train_r)\n",
    "\n",
    "# Calculate residuals\n",
    "#    Recall: residual = y_pred - y\n",
    "residuals = y_pred - y_train_r\n",
    "\n",
    "# Plot predictions (x-axis) vs residuals (y-axis) using plt.scatter()\n",
    "#    In scatter set alpha=0.2 to make the markers somewhat transparent.\n",
    "#    Set axis/label names appropriately ('y_pred' and 'residuals')\n",
    "# The residuals should appear fairly normal around 0 across the range of y_pred\n",
    "plt.scatter(y_pred, residuals, alpha=0.2)\n",
    "plt.xlabel('y_pred')\n",
    "plt.ylabel('residuals')"
   ]
  },
  {
   "cell_type": "markdown",
   "metadata": {},
   "source": [
    "### Part 1.3 ElasticNet HyperParameter Tuning"
   ]
  },
  {
   "cell_type": "code",
   "execution_count": 10,
   "metadata": {},
   "outputs": [
    {
     "name": "stdout",
     "output_type": "stream",
     "text": [
      "gscv best params: {'l1_ratio': 0.1}\n"
     ]
    }
   ],
   "source": [
    "# 10. (6pts) Use GridSearch to choose an optimal hyperparamter setting for ElasticNet\n",
    "\n",
    "# Import ElasticNet and GridSearchCV from sklearn\n",
    "from sklearn.linear_model import ElasticNet\n",
    "from sklearn.model_selection import GridSearchCV\n",
    "\n",
    "# Perform GridSearch over potential settings of the l1_ratio = [.1,.5,.9,1] \n",
    "#     The only parameter in our search is the l1_ratio\n",
    "#     Use 5-fold cross validation\n",
    "#     Ust\n",
    "#     Leave all other arguments as their defaults\n",
    "#     Fit on the training set\n",
    "params = {'l1_ratio':[.1,.5,.9,1]}\n",
    "gscv = GridSearchCV(ElasticNet(),params,cv=5).fit(X_train_r,y_train_r)   \n",
    "\n",
    "# Print out the best parameter setting found using grid search and the best parameter setting found\n",
    "print('gscv best params: {}'.format(gscv.best_params_))"
   ]
  },
  {
   "cell_type": "code",
   "execution_count": 11,
   "metadata": {},
   "outputs": [
    {
     "name": "stdout",
     "output_type": "stream",
     "text": [
      "en mean cv RMSE: 1.77 +- 0.26\n"
     ]
    }
   ],
   "source": [
    "# 11. (2pts) Calculate average RMSE for the ElasticNet model using 5-fold Cross Validation\n",
    "\n",
    "# Instantiate a new ElasticNet model with the optimal l1_ratio found above.\n",
    "en = ElasticNet(l1_ratio=0.1)\n",
    "\n",
    "# Generate 5-fold cv neg_mean_squared_error scores \n",
    "#   for the instantiated ElasticNet model on the training set.\n",
    "en_negmse_cvscores = cross_val_score(en, X_train_r, y_train_r, cv=5,scoring='neg_mean_squared_error')\n",
    "\n",
    "# Use the function we wrote above to get mean RMSE and \n",
    "# 2 standard deviations scores.\n",
    "en_rmse,en_rmse_2std = negmse_to_rmse(en_negmse_cvscores)\n",
    "\n",
    "# Print out the mean RMSE and 2 standard variations for ElasticNet\n",
    "print('en mean cv RMSE: {:.2f} +- {:.2f}'.format(en_rmse,en_rmse_2std))"
   ]
  },
  {
   "cell_type": "markdown",
   "metadata": {},
   "source": [
    "### Part 1.4 Evaluate on Test"
   ]
  },
  {
   "cell_type": "code",
   "execution_count": 12,
   "metadata": {},
   "outputs": [
    {
     "name": "stdout",
     "output_type": "stream",
     "text": [
      "test RMSE : 1.74\n"
     ]
    }
   ],
   "source": [
    "# 12. (3pts) Choose the best model based on mean RMSE, \n",
    "#     retrain on the entire training set \n",
    "#     and report test set RMSE\n",
    "\n",
    "# Import mean_squared_error from sklearn\n",
    "from sklearn.metrics import mean_squared_error\n",
    "\n",
    "# Retrain the best performaing model on the entire training set\n",
    "lr = LinearRegression().fit(X_train_r,y_train_r)\n",
    "\n",
    "# Calculate RMSE on the test set using the trained model\n",
    "test_rmse = np.sqrt(mean_squared_error(y_test_r,lr.predict(X_test_r)))\n",
    "\n",
    "print('test RMSE : {:.2f}'.format(test_rmse))"
   ]
  },
  {
   "cell_type": "markdown",
   "metadata": {},
   "source": [
    "---"
   ]
  },
  {
   "cell_type": "markdown",
   "metadata": {},
   "source": [
    "## Part 2: Classification"
   ]
  },
  {
   "cell_type": "markdown",
   "metadata": {},
   "source": [
    "Here we build a model to classify low vs. high adjusted sales price."
   ]
  },
  {
   "cell_type": "markdown",
   "metadata": {},
   "source": [
    "### Create Classification Target"
   ]
  },
  {
   "cell_type": "code",
   "execution_count": 13,
   "metadata": {},
   "outputs": [],
   "source": [
    "# We'll create a binary target by thresholding at the median of our AdjSalePrice\n",
    "#  High = 1, Low = 0\n",
    "y_c = (df.AdjSalePrice_x100000 > df.AdjSalePrice_x100000.median()).astype(int)"
   ]
  },
  {
   "cell_type": "markdown",
   "metadata": {},
   "source": [
    "### Part 2.1 Create a Held-Aside Set"
   ]
  },
  {
   "cell_type": "code",
   "execution_count": 14,
   "metadata": {},
   "outputs": [],
   "source": [
    "# 13. (1pt) Create a training and held aside set\n",
    "\n",
    "# Split into 80% train and 20% test using train_test_split with random_state=42\n",
    "#    Use the new y_c target and the same X we used for regression\n",
    "X_train_c, X_test_c, y_train_c, y_test_c = train_test_split(X,y_c,test_size=.2,random_state=42)"
   ]
  },
  {
   "cell_type": "markdown",
   "metadata": {},
   "source": [
    "### Part 2.2 Measure baseline performance"
   ]
  },
  {
   "cell_type": "code",
   "execution_count": 15,
   "metadata": {},
   "outputs": [
    {
     "name": "stdout",
     "output_type": "stream",
     "text": [
      "baseline accuracy: 0.51\n"
     ]
    }
   ],
   "source": [
    "# 14. (1pt) Instead of creating and training a Dummy Classifier, \n",
    "#    let's calculate accuracy if we just predict 1 for all training set items.\n",
    "\n",
    "# Compare all y_train_c to a prediction of 1 and calculate the proportion correct.\n",
    "baseline_acc = sum(y_train_c == 1) / len(y_train_c)\n",
    "\n",
    "print('baseline accuracy: {:.2f}'.format(baseline_acc))"
   ]
  },
  {
   "cell_type": "markdown",
   "metadata": {},
   "source": [
    "### Part 2.3 Logistic Regression model"
   ]
  },
  {
   "cell_type": "code",
   "execution_count": 16,
   "metadata": {},
   "outputs": [
    {
     "name": "stdout",
     "output_type": "stream",
     "text": [
      "logr mean cv accuracy: 0.75 +- 0.06\n"
     ]
    }
   ],
   "source": [
    "# 15. (3pts) Import, train and calculate 5-fold cv accuracy for \n",
    "#    a LogisticRegression model on the training set\n",
    "\n",
    "# Import LogisticRegression model from sklearn\n",
    "from sklearn.linear_model import LogisticRegression\n",
    "\n",
    "# Get 5 fold cv accuracy scores for a logistic regression model on the training set\n",
    "#   Note: in the logistic regression model set solver='lbfgs' to remove warnings\n",
    "logr_cvscores = cross_val_score(LogisticRegression(solver='lbfgs'),X_train_c,y_train_c,cv=5)\n",
    "\n",
    "# Calculate mean cv accuracy\n",
    "logr_acc = np.mean(logr_cvscores)\n",
    "\n",
    "# Calculate 2 standard deviations for the cv scores\n",
    "logr_acc_2std = 2*np.std(logr_cvscores)\n",
    "\n",
    "print('logr mean cv accuracy: {:.2f} +- {:.2f}'.format(logr_acc,logr_acc_2std))"
   ]
  },
  {
   "cell_type": "code",
   "execution_count": 17,
   "metadata": {},
   "outputs": [
    {
     "name": "stdout",
     "output_type": "stream",
     "text": [
      "rf best accuracy: 0.797\n",
      "rf best params  : {'max_depth': 10, 'n_estimators': 200}\n"
     ]
    }
   ],
   "source": [
    "# 16. (4pts) Perform 5-fold cross validated grid search over the number of trees and tree depth.\n",
    "\n",
    "# Import the RandomForestClassifier\n",
    "from sklearn.ensemble import RandomForestClassifier\n",
    "\n",
    "# Create the grid of parameters to evaluate\n",
    "#     using the settings n_estimators:[5,100,200], max_depth:[3,5,10].\n",
    "params = {'n_estimators':[5,100,200],'max_depth': [3,5,10]}\n",
    "\n",
    "# Instantiate and fit GridSearchCV on the classification training set\n",
    "#   using 5-folds, the RandomForestClassifier and default scoring.\n",
    "#   Make sure refit=True (default) so the model is retrained on the entire training set.\n",
    "gscv = GridSearchCV(RandomForestClassifier(),params,cv=5,refit=True).fit(X_train_c,y_train_c)   \n",
    "\n",
    "# Print out the best mean accuracy found and the best parameter setting found\n",
    "print('rf best accuracy: {:.3f}'.format(gscv.best_score_))\n",
    "print('rf best params  : {}'.format(gscv.best_params_))"
   ]
  },
  {
   "cell_type": "markdown",
   "metadata": {},
   "source": [
    "### Part 2.4 Evaluate on Test"
   ]
  },
  {
   "cell_type": "code",
   "execution_count": 18,
   "metadata": {},
   "outputs": [
    {
     "name": "stdout",
     "output_type": "stream",
     "text": [
      "test acc : 0.79\n"
     ]
    }
   ],
   "source": [
    "# 17. (3pts) Evaluate the Random Forest Model on the test set\n",
    "\n",
    "# Get the trained RandomForest model from gscv\n",
    "# Note: there is no need to retrain here. See the documentation for clarification.\n",
    "rf = gscv.best_estimator_\n",
    "\n",
    "# Calculate accuracy on the test set using the trained model\n",
    "test_acc = rf.score(X_test_c,y_test_c)\n",
    "\n",
    "print('test acc : {:.2f}'.format(test_acc))"
   ]
  },
  {
   "cell_type": "markdown",
   "metadata": {},
   "source": [
    "### Part 2.4 Plotting Precision-Recall curve for the Random Forest model"
   ]
  },
  {
   "cell_type": "code",
   "execution_count": 19,
   "metadata": {},
   "outputs": [
    {
     "data": {
      "image/png": "[encoded data removed]",
      "text/plain": [
       "<Figure size 432x288 with 1 Axes>"
      ]
     },
     "metadata": {
      "needs_background": "light"
     },
     "output_type": "display_data"
    }
   ],
   "source": [
    "# 18. (5pts) Get the retrained model from gscv and use it to \n",
    "#     plot a precision recall curve for the RandomForest model\n",
    "\n",
    "# import precision_recall_curve from sklearn\n",
    "from sklearn.metrics import precision_recall_curve\n",
    "\n",
    "# Calculate P(y=1|x) for the training set using the trained RandomForest model\n",
    "pypos_rf = rf.predict_proba(X_train_c)[:,1]\n",
    "\n",
    "# Calculate precision and recall using the y_train_c and pypos_rf\n",
    "precision, recall, thresholds = precision_recall_curve(y_train_c, pypos_rf)\n",
    "\n",
    "# Plot the curve using plt.step()\n",
    "# Recall should be on the x-axis\n",
    "# Label the x and y axes appropriately\n",
    "plt.step(recall, precision, color='b', alpha=0.2, where='post');\n",
    "plt.xlabel('Recall');\n",
    "plt.ylabel('Precision');"
   ]
  },
  {
   "cell_type": "markdown",
   "metadata": {},
   "source": [
    "### Part 2.6 Feature selection"
   ]
  },
  {
   "cell_type": "code",
   "execution_count": 20,
   "metadata": {},
   "outputs": [
    {
     "name": "stdout",
     "output_type": "stream",
     "text": [
      "kept columns: ['SqFtTotLiving_x1000', 'SqFtLot_x1000']\n"
     ]
    }
   ],
   "source": [
    "# 19. (4pts) Use our trained Random Forest model to determine\n",
    "#    which features are most important for prediction\n",
    "\n",
    "# Import SelectFromModel from sklearn\n",
    "from sklearn.feature_selection import SelectFromModel\n",
    "\n",
    "# Initialize SelectFromModel using our trained RandomForest model.\n",
    "#    Use 'mean' as threshold (default).\n",
    "#    Use prefit=True since the model is already trained/\n",
    "sfm = SelectFromModel(rf, threshold='mean', prefit=True)\n",
    "\n",
    "# Get the selected feature names using X.columns and sfm.get_support()\n",
    "kept_columns =  list(X.columns[sfm.get_support()])\n",
    "\n",
    "print('kept columns: {}'.format(kept_columns))"
   ]
  },
  {
   "cell_type": "code",
   "execution_count": null,
   "metadata": {},
   "outputs": [],
   "source": []
  }
 ],
 "metadata": {
  "kernelspec": {
   "display_name": "eods-f19",
   "language": "python",
   "name": "eods-f19"
  },
  "language_info": {
   "codemirror_mode": {
    "name": "ipython",
    "version": 3
   },
   "file_extension": ".py",
   "mimetype": "text/x-python",
   "name": "python",
   "nbconvert_exporter": "python",
   "pygments_lexer": "ipython3",
   "version": "3.7.4"
  }
 },
 "nbformat": 4,
 "nbformat_minor": 2
}
