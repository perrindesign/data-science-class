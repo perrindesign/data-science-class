{
 "cells": [
  {
   "cell_type": "markdown",
   "metadata": {},
   "source": [
    "# Homework 2\n",
    "\n",
    "### Due: Wed Nov. 6 @ 11:59pm"
   ]
  },
  {
   "cell_type": "markdown",
   "metadata": {},
   "source": [
    "In this homework we will be performing model evaluation, model selection and feature selection in both a regression and classification setting.\n",
    "\n",
    "The data we will be looking at are a small set of home sales data from as we might see on a real-estate website.\n",
    "\n",
    "\n",
    "## Instructions\n",
    "\n",
    "Follow the comments below and fill in the blanks (\\_\\_\\_\\_) to complete.\n",
    "\n",
    "Please 'Restart and Run All' prior to submission.\n",
    "\n",
    "Out of 65 points total."
   ]
  },
  {
   "cell_type": "markdown",
   "metadata": {},
   "source": [
    "## Part 0: Environment Setup"
   ]
  },
  {
   "cell_type": "code",
   "execution_count": null,
   "metadata": {},
   "outputs": [],
   "source": [
    "# 1. (2pts) Set up our environment with comman libraries and plotting.\n",
    "#    Note: generally we would do all of our imports here but some imports\n",
    "#    have been left till later where they are used.\n",
    "\n",
    "# Import numpy, pandas and matplotlib.pylab\n",
    "____\n",
    "____\n",
    "____\n",
    "\n",
    "# Execute the matplotlib magic function to display plots inline\n",
    "____\n",
    "\n",
    "# Setting a seed for numpy random\n",
    "np.random.seed(123)"
   ]
  },
  {
   "cell_type": "markdown",
   "metadata": {},
   "source": [
    "## Part 1: Regression"
   ]
  },
  {
   "cell_type": "markdown",
   "metadata": {},
   "source": [
    "In Part 1 we will try to predict a real value home sale price using several models."
   ]
  },
  {
   "cell_type": "code",
   "execution_count": null,
   "metadata": {},
   "outputs": [],
   "source": [
    "# 2. (3pts) Load and prepare our data.\n",
    "\n",
    "# Read in the csv file house_sales_subset.csv\n",
    "df = ____\n",
    "\n",
    "# Extract the dataframe X which should contains the first 5 columns:\n",
    "#    'SqFtTotLiving_x1000', 'SqFtLot_x1000', 'SqFtDriveway_x1000', 'Bathrooms', 'Bedrooms'\n",
    "X = ____\n",
    "\n",
    "# Extract the series y_r which should contain only the last column AdjSalePrice_x100000\n",
    "#    Note: the '_r' here is denote the different target for regression vs. classification\n",
    "y_r = ____"
   ]
  },
  {
   "cell_type": "code",
   "execution_count": null,
   "metadata": {},
   "outputs": [],
   "source": [
    "# 3. (4pts) Create a held-aside set.\n",
    "\n",
    "# Import train_test_split from sklearn.model_selection\n",
    "____\n",
    "\n",
    "# Split into 80% train and 20% test using train_test_split \n",
    "#   Use random_state=42 for grading consistency\n",
    "X_train_r, X_test_r, y_train_r, y_test_r = ____\n",
    "\n",
    "# Print out the the length of y_test_r divided by the length y_r to confirm our test set size.\n",
    "#    Only show 2 significant digits (eg: 0.11).\n",
    "print(f'{____}')"
   ]
  },
  {
   "cell_type": "markdown",
   "metadata": {},
   "source": [
    "### Part 1.1 Baseline Regressor"
   ]
  },
  {
   "cell_type": "code",
   "execution_count": null,
   "metadata": {},
   "outputs": [],
   "source": [
    "# 4. (4pt) Create a Dummy Regressior for baseline comparison\n",
    "\n",
    "# Import the DummyRegressor model from sklearn \n",
    "____\n",
    "\n",
    "# Instantiate a dummy model using strategy=\"median\"\n",
    "dummy_r = ____\n",
    "\n",
    "# Train the dummy model on the training set created above\n",
    "____\n",
    "\n",
    "# Calculate and print the training set R2 score of the trained model.\n",
    "dummy_r_training_r2 = ____\n",
    "\n",
    "print('dummy training set R2: {:.2f}'.format(dummy_r_training_r2))"
   ]
  },
  {
   "cell_type": "code",
   "execution_count": null,
   "metadata": {},
   "outputs": [],
   "source": [
    "# 5. (4pts) Use 5-fold Cross Validation to get a set of negative-MSE scores\n",
    "\n",
    "# Import cross_val_score from sklearn.\n",
    "____\n",
    "\n",
    "# Generate 5-fold cross valication neg_mean_squared_error scores\n",
    "#    for the Dummy model on the training set.\n",
    "dummy_r_negmse_cvscores = ____"
   ]
  },
  {
   "cell_type": "code",
   "execution_count": null,
   "metadata": {},
   "outputs": [],
   "source": [
    "# 6. (4pts) Since we'll need to convert from negative-MSE to RMSE several times\n",
    "#     write a function that takes in a list of negative-MSE scores \n",
    "#     and returns positive mean RMSE and 2 times the standard deviation\n",
    "\n",
    "def negmse_to_rmse(negmse_cvscores):\n",
    "    \n",
    "    # Flip the cv scores from negative to positive\n",
    "    mse_cvscores = ____\n",
    "\n",
    "    # Transform the cv scores from MSE to RMSE\n",
    "    rmse_cvscores = ____\n",
    "\n",
    "    # Calculate the mean RMSE over rmse_cvscores\n",
    "    rmse_mean = ____\n",
    "\n",
    "    # Calculate 2 standard deviations of rmse_cvscores\n",
    "    rmse_2std = ____\n",
    "    \n",
    "    return(rmse_mean,rmse_2std)"
   ]
  },
  {
   "cell_type": "code",
   "execution_count": null,
   "metadata": {},
   "outputs": [],
   "source": [
    "# 7. (2pts) Use our negmse_to_rmse function to calculate mean-RMSE \n",
    "#     and standard deviations for the dummy model.\n",
    "\n",
    "# Pass dummy_r_negmse_cvscores to our function and capture the output\n",
    "____\n",
    "\n",
    "# Print out the mean RMSE and 2 standard variations for the dummy model\n",
    "print('dummy mean cv RMSE: {:.2f} +- {:.2f}'.format(dummy_r_rmse,dummy_r_rmse_2std))"
   ]
  },
  {
   "cell_type": "markdown",
   "metadata": {},
   "source": [
    "### Part 1.2 Linear Regression and Residuals"
   ]
  },
  {
   "cell_type": "code",
   "execution_count": null,
   "metadata": {},
   "outputs": [],
   "source": [
    "# 8. (4pts) Import the Linear Regression model and calculate mean RMSE using 5-fold Cross Validation\n",
    "\n",
    "# Import the LinearRegression model from sklearn\n",
    "____\n",
    "\n",
    "# Generate 5-fold cv neg_mean_squared_error scores \n",
    "#   for the LinearRegression model with default settings\n",
    "#   on the training set.\n",
    "lr_negmse_cvscores = ____\n",
    "\n",
    "# Use the function we wrote above to get mean RMSE and 2 standard deviations for LinearRegression.\n",
    "____\n",
    "\n",
    "# Print out the mean RMSE and 2 standard variations for LinearRegression\n",
    "print('lr mean cv RMSE: {:.2f} +- {:.2f}'.format(lr_rmse,lr_rmse_2std))"
   ]
  },
  {
   "cell_type": "code",
   "execution_count": null,
   "metadata": {},
   "outputs": [],
   "source": [
    "# 9.(6pts) Plot the residuals of a Linear Regression model\n",
    "\n",
    "# Instantiate and retrain a linear regression model on the entire training set.\n",
    "lr = ____\n",
    "\n",
    "# Generate predictions y_pred, again using the training set.\n",
    "y_pred = ____\n",
    "\n",
    "# Calculate residuals\n",
    "#    Recall: residual = y_pred - y\n",
    "residuals = ____\n",
    "\n",
    "# Plot predictions (x-axis) vs residuals (y-axis) using plt.scatter()\n",
    "#    In scatter set alpha=0.2 to make the markers somewhat transparent.\n",
    "#    Set axis/label names appropriately ('y_pred' and 'residuals')\n",
    "# The residuals should appear fairly normal around 0 across the range of y_pred\n",
    "____\n",
    "____\n",
    "____"
   ]
  },
  {
   "cell_type": "markdown",
   "metadata": {},
   "source": [
    "### Part 1.3 ElasticNet HyperParameter Tuning"
   ]
  },
  {
   "cell_type": "code",
   "execution_count": null,
   "metadata": {},
   "outputs": [],
   "source": [
    "# 10. (6pts) Use GridSearch to choose an optimal hyperparamter setting for ElasticNet\n",
    "\n",
    "# Import ElasticNet and GridSearchCV from sklearn\n",
    "____\n",
    "____\n",
    "\n",
    "# Perform GridSearch over potential settings of the l1_ratio = [.1,.5,.9,1] \n",
    "#     The only parameter in our search is the l1_ratio\n",
    "#     Use 5-fold cross validation\n",
    "#     Ust\n",
    "#     Leave all other arguments as their defaults\n",
    "#     Fit on the training set\n",
    "params = ____\n",
    "gscv = ____\n",
    "\n",
    "# Print out the best parameter setting found using grid search and the best parameter setting found\n",
    "print('gscv best params: {}'.format(____))"
   ]
  },
  {
   "cell_type": "code",
   "execution_count": null,
   "metadata": {},
   "outputs": [],
   "source": [
    "# 11. (2pts) Calculate average RMSE for the ElasticNet model using 5-fold Cross Validation\n",
    "\n",
    "# Instantiate a new ElasticNet model with the optimal l1_ratio found above.\n",
    "en = ____\n",
    "\n",
    "# Generate 5-fold cv neg_mean_squared_error scores \n",
    "#   for the instantiated ElasticNet model on the training set.\n",
    "en_negmse_cvscores = ____\n",
    "\n",
    "# Use the function we wrote above to get mean RMSE and \n",
    "# 2 standard deviations scores.\n",
    "en_rmse,en_rmse_2std = ____\n",
    "\n",
    "# Print out the mean RMSE and 2 standard variations for ElasticNet\n",
    "print('en mean cv RMSE: {:.2f} +- {:.2f}'.format(en_rmse,en_rmse_2std))"
   ]
  },
  {
   "cell_type": "markdown",
   "metadata": {},
   "source": [
    "### Part 1.4 Evaluate on Test"
   ]
  },
  {
   "cell_type": "code",
   "execution_count": null,
   "metadata": {},
   "outputs": [],
   "source": [
    "# 12. (3pts) Choose the best model based on mean RMSE, \n",
    "#     retrain on the entire training set \n",
    "#     and report test set RMSE\n",
    "\n",
    "# Import mean_squared_error from sklearn\n",
    "____\n",
    "\n",
    "# Retrain the best performaing model on the entire training set\n",
    "____\n",
    "\n",
    "# Calculate RMSE on the test set using the trained model\n",
    "test_rmse = ____\n",
    "\n",
    "print('test RMSE : {:.2f}'.format(test_rmse))"
   ]
  },
  {
   "cell_type": "markdown",
   "metadata": {},
   "source": [
    "---"
   ]
  },
  {
   "cell_type": "markdown",
   "metadata": {},
   "source": [
    "## Part 2: Classification"
   ]
  },
  {
   "cell_type": "markdown",
   "metadata": {},
   "source": [
    "Here we build a model to classify low vs. high adjusted sales price."
   ]
  },
  {
   "cell_type": "markdown",
   "metadata": {},
   "source": [
    "### Create Classification Target"
   ]
  },
  {
   "cell_type": "code",
   "execution_count": null,
   "metadata": {},
   "outputs": [],
   "source": [
    "# We'll create a binary target by thresholding at the median of our AdjSalePrice\n",
    "#  High = 1, Low = 0\n",
    "y_c = (df.AdjSalePrice_x100000 > df.AdjSalePrice_x100000.median()).astype(int)"
   ]
  },
  {
   "cell_type": "markdown",
   "metadata": {},
   "source": [
    "### Part 2.1 Create a Held-Aside Aet"
   ]
  },
  {
   "cell_type": "code",
   "execution_count": null,
   "metadata": {},
   "outputs": [],
   "source": [
    "# 13. (1pt) Create a training and held aside set\n",
    "\n",
    "# Split into 80% train and 20% test using train_test_split with random_state=42\n",
    "#    Use the new y_c target and the same X we used for regression\n",
    "____"
   ]
  },
  {
   "cell_type": "markdown",
   "metadata": {},
   "source": [
    "### Part 2.2 Measure baseline performance"
   ]
  },
  {
   "cell_type": "code",
   "execution_count": null,
   "metadata": {},
   "outputs": [],
   "source": [
    "# 14. (1pt) Instead of creating and training a Dummy Classifier, \n",
    "#    let's calculate accuracy if we just predict 1 for all training set items.\n",
    "\n",
    "# Compare all y_train_c to a prediction of 1 and calculate the proportion correct.\n",
    "baseline_acc = ____\n",
    "\n",
    "print('baseline accuracy: {:.2f}'.format(baseline_acc))"
   ]
  },
  {
   "cell_type": "markdown",
   "metadata": {},
   "source": [
    "### Part 2.3 Logistic Regression model"
   ]
  },
  {
   "cell_type": "code",
   "execution_count": null,
   "metadata": {},
   "outputs": [],
   "source": [
    "# 15. (3pts) Import, train and calculate 5-fold cv accuracy for \n",
    "#    a LogisticRegression model on the training set\n",
    "\n",
    "# Import LogisticRegression model from sklearn\n",
    "____\n",
    "\n",
    "# Get 5 fold cv accuracy scores for a logistic regression model on the training set\n",
    "#   Note: in the logistic regression model set solver='lbfgs' to remove warnings\n",
    "logr_cvscores = ____\n",
    "\n",
    "# Calculate mean cv accuracy\n",
    "logr_acc = ____\n",
    "\n",
    "# Calculate 2 standard deviations for the cv scores\n",
    "logr_acc_2std = ____\n",
    "\n",
    "print('logr mean cv accuracy: {:.2f} +- {:.2f}'.format(logr_acc,logr_acc_2std))"
   ]
  },
  {
   "cell_type": "code",
   "execution_count": null,
   "metadata": {},
   "outputs": [],
   "source": [
    "# 16. (4pts) Perform 5-fold cross validated grid search over the number of trees and tree depth.\n",
    "\n",
    "# Import the RandomForestClassifier\n",
    "____\n",
    "\n",
    "# Create the grid of parameters to evaluate\n",
    "#     using the settings n_estimators:[5,100,200], max_depth:[3,5,10].\n",
    "params = ____\n",
    "\n",
    "# Instantiate and fit GridSearchCV on the classification training set\n",
    "#   using 5-folds, the RandomForestClassifier and default scoring.\n",
    "#   Make sure refit=True (default) so the model is retrained on the entire training set.\n",
    "gscv = ____\n",
    "\n",
    "# Print out the best mean accuracy found and the best parameter setting found\n",
    "print('rf best accuracy: {:.3f}'.format(____))\n",
    "print('rf best params  : {}'.format(____))"
   ]
  },
  {
   "cell_type": "markdown",
   "metadata": {},
   "source": [
    "### Part 2.4 Evaluate on Test"
   ]
  },
  {
   "cell_type": "code",
   "execution_count": null,
   "metadata": {},
   "outputs": [],
   "source": [
    "# 17. (3pts) Evaluate the Random Forest Model on the test set\n",
    "\n",
    "# Get the trained RandomForest model from gscv\n",
    "# Note: there is no need to retrain here. See the documentation for clarification.\n",
    "rf = ____\n",
    "\n",
    "# Calculate accuracy on the test set using the trained model\n",
    "test_acc = ____\n",
    "\n",
    "print('test acc : {:.2f}'.format(test_acc))"
   ]
  },
  {
   "cell_type": "markdown",
   "metadata": {},
   "source": [
    "### Part 2.4 Plotting Precision-Recall curve for the Random Forest model"
   ]
  },
  {
   "cell_type": "code",
   "execution_count": null,
   "metadata": {},
   "outputs": [],
   "source": [
    "# 18. (5pts) Get the retrained model from gscv and use it to \n",
    "#     plot a precision recall curve for the RandomForest model\n",
    "\n",
    "# import precision_recall_curve from sklearn\n",
    "____\n",
    "\n",
    "# Calculate P(y=1|x) for the training set using the trained RandomForest model\n",
    "pypos_rf = ____\n",
    "\n",
    "# Calculate precision and recall using the y_train_c and pypos_rf\n",
    "precision, recall, _ = ____\n",
    "\n",
    "# Plot the curve using plt.step()\n",
    "# Recall should be on the x-axis\n",
    "# Label the x and y axes appropriately\n",
    "____\n",
    "____\n",
    "____"
   ]
  },
  {
   "cell_type": "markdown",
   "metadata": {},
   "source": [
    "### Part 2.6 Feature selection"
   ]
  },
  {
   "cell_type": "code",
   "execution_count": null,
   "metadata": {},
   "outputs": [],
   "source": [
    "# 19. (4pts) Use our trained Random Forest model to determine\n",
    "#    which features are most important for prediction\n",
    "\n",
    "# Import SelectFromModel from sklearn\n",
    "____\n",
    "\n",
    "# Initialize SelectFromModel using our trained RandomForest model.\n",
    "#    Use 'mean' as threshold (default).\n",
    "#    Use prefit=True since the model is already trained/\n",
    "sfm = ____\n",
    "\n",
    "# Get the selected feature names using X.columns and sfm.get_support()\n",
    "kept_columns = ____\n",
    "\n",
    "print('kept columns: {}'.format(kept_columns))"
   ]
  }
 ],
 "metadata": {
  "kernelspec": {
   "display_name": "eods-f19",
   "language": "python",
   "name": "eods-f19"
  },
  "language_info": {
   "codemirror_mode": {
    "name": "ipython",
    "version": 3
   },
   "file_extension": ".py",
   "mimetype": "text/x-python",
   "name": "python",
   "nbconvert_exporter": "python",
   "pygments_lexer": "ipython3",
   "version": "3.7.4"
  }
 },
 "nbformat": 4,
 "nbformat_minor": 2
}
