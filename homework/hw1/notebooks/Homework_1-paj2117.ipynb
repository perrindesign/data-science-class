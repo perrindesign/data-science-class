{
 "cells": [
  {
   "cell_type": "markdown",
   "metadata": {},
   "source": [
    "# Homework 1\n",
    "\n",
    "## Perrin Anto - paj2117\n",
    "\n",
    "### Due: Sat Oct. 12 @ 11:59pm"
   ]
  },
  {
   "cell_type": "markdown",
   "metadata": {},
   "source": [
    "In this homework we'll do some data exploration and perform an A/B test.\n",
    "\n",
    "\n",
    "## Instructions\n",
    "\n",
    "Follow the comments below and fill in the blanks (____) to complete.\n",
    "\n",
    "Where a text response is asked for, please enter as a comment, starting each line with #."
   ]
  },
  {
   "cell_type": "markdown",
   "metadata": {},
   "source": [
    "# Environment Setup"
   ]
  },
  {
   "cell_type": "code",
   "execution_count": 1,
   "metadata": {},
   "outputs": [],
   "source": [
    "import pandas as pd\n",
    "import numpy as np\n",
    "import seaborn as sns\n",
    "import matplotlib.pylab as plt\n",
    "\n",
    "sns.set_style('darkgrid')\n",
    "\n",
    "%matplotlib inline"
   ]
  },
  {
   "cell_type": "markdown",
   "metadata": {},
   "source": [
    "## Part 1: Data Exploration\n",
    "\n",
    "One data science task, and a common one used for data science interviews, is to predict defaults on loans.<br>\n",
    "We're going to load a subset of a common loan dataset and explore some of the features.\n",
    "\n",
    "Here is a brief description of the features included:\n",
    "\n",
    "- **loan_amnt**: The amount of money applied for\n",
    "- **term**: The period over which the load should be repaid\n",
    "- **annual_inc**: Annual income of the borrower\n",
    "- **purpose**: The purpose of the loan, such as: credit_card, debt_consolidation, etc.\n",
    "- **home_ownership**: The borrower's relationship with their primary residence\n",
    "- **outcome**: The result of the loan"
   ]
  },
  {
   "cell_type": "code",
   "execution_count": 2,
   "metadata": {},
   "outputs": [],
   "source": [
    "# 1. (1pt) Load the data from ../data/loan_data_subset.csv into the variable df\n",
    "\n",
    "df = pd.read_csv(\"../data/loan_data_subset.csv\")"
   ]
  },
  {
   "cell_type": "code",
   "execution_count": 3,
   "metadata": {},
   "outputs": [
    {
     "name": "stdout",
     "output_type": "stream",
     "text": [
      "<class 'pandas.core.frame.DataFrame'>\n",
      "RangeIndex: 20000 entries, 0 to 19999\n",
      "Data columns (total 6 columns):\n",
      "loan_amnt         20000 non-null int64\n",
      "term              20000 non-null object\n",
      "annual_inc        20000 non-null int64\n",
      "purpose           20000 non-null object\n",
      "home_ownership    20000 non-null object\n",
      "outcome           20000 non-null object\n",
      "dtypes: int64(2), object(4)\n",
      "memory usage: 937.6+ KB\n"
     ]
    }
   ],
   "source": [
    "# 2. (1pt) Print out information about the dataframe using .info()\n",
    "\n",
    "df.info()"
   ]
  },
  {
   "cell_type": "code",
   "execution_count": 4,
   "metadata": {},
   "outputs": [],
   "source": [
    "# 3. (1pt) Looking at the info print out, how many values are missing (null)?\n",
    "\n",
    "# There are no missing values"
   ]
  },
  {
   "cell_type": "code",
   "execution_count": 5,
   "metadata": {},
   "outputs": [
    {
     "name": "stdout",
     "output_type": "stream",
     "text": [
      "dataframe has 20000 rows\n"
     ]
    }
   ],
   "source": [
    "# 4. (1pt) Using .shape, how many rows does the dataset have?\n",
    "\n",
    "print(f'dataframe has', df.shape[0], 'rows')"
   ]
  },
  {
   "cell_type": "code",
   "execution_count": 6,
   "metadata": {},
   "outputs": [
    {
     "data": {
      "text/html": [
       "<div>\n",
       "<style scoped>\n",
       "    .dataframe tbody tr th:only-of-type {\n",
       "        vertical-align: middle;\n",
       "    }\n",
       "\n",
       "    .dataframe tbody tr th {\n",
       "        vertical-align: top;\n",
       "    }\n",
       "\n",
       "    .dataframe thead th {\n",
       "        text-align: right;\n",
       "    }\n",
       "</style>\n",
       "<table border=\"1\" class=\"dataframe\">\n",
       "  <thead>\n",
       "    <tr style=\"text-align: right;\">\n",
       "      <th></th>\n",
       "      <th>loan_amnt</th>\n",
       "      <th>term</th>\n",
       "      <th>annual_inc</th>\n",
       "      <th>purpose</th>\n",
       "      <th>home_ownership</th>\n",
       "      <th>outcome</th>\n",
       "    </tr>\n",
       "  </thead>\n",
       "  <tbody>\n",
       "    <tr>\n",
       "      <td>0</td>\n",
       "      <td>11000</td>\n",
       "      <td>60 months</td>\n",
       "      <td>59004</td>\n",
       "      <td>home_improvement</td>\n",
       "      <td>MORTGAGE</td>\n",
       "      <td>paid off</td>\n",
       "    </tr>\n",
       "    <tr>\n",
       "      <td>1</td>\n",
       "      <td>14000</td>\n",
       "      <td>36 months</td>\n",
       "      <td>120000</td>\n",
       "      <td>credit_card</td>\n",
       "      <td>RENT</td>\n",
       "      <td>default</td>\n",
       "    </tr>\n",
       "    <tr>\n",
       "      <td>2</td>\n",
       "      <td>10000</td>\n",
       "      <td>36 months</td>\n",
       "      <td>110000</td>\n",
       "      <td>small_business</td>\n",
       "      <td>MORTGAGE</td>\n",
       "      <td>default</td>\n",
       "    </tr>\n",
       "    <tr>\n",
       "      <td>3</td>\n",
       "      <td>23350</td>\n",
       "      <td>60 months</td>\n",
       "      <td>65000</td>\n",
       "      <td>debt_consolidation</td>\n",
       "      <td>MORTGAGE</td>\n",
       "      <td>default</td>\n",
       "    </tr>\n",
       "    <tr>\n",
       "      <td>4</td>\n",
       "      <td>12000</td>\n",
       "      <td>60 months</td>\n",
       "      <td>49000</td>\n",
       "      <td>major_purchase</td>\n",
       "      <td>MORTGAGE</td>\n",
       "      <td>paid off</td>\n",
       "    </tr>\n",
       "  </tbody>\n",
       "</table>\n",
       "</div>"
      ],
      "text/plain": [
       "   loan_amnt       term  annual_inc             purpose home_ownership  \\\n",
       "0      11000  60 months       59004    home_improvement       MORTGAGE   \n",
       "1      14000  36 months      120000         credit_card           RENT   \n",
       "2      10000  36 months      110000      small_business       MORTGAGE   \n",
       "3      23350  60 months       65000  debt_consolidation       MORTGAGE   \n",
       "4      12000  60 months       49000      major_purchase       MORTGAGE   \n",
       "\n",
       "    outcome  \n",
       "0  paid off  \n",
       "1   default  \n",
       "2   default  \n",
       "3   default  \n",
       "4  paid off  "
      ]
     },
     "execution_count": 6,
     "metadata": {},
     "output_type": "execute_result"
    }
   ],
   "source": [
    "# 5. (1pt) Print the first 5 rows of the dataset using .head\n",
    "\n",
    "df.head()"
   ]
  },
  {
   "cell_type": "code",
   "execution_count": 7,
   "metadata": {},
   "outputs": [
    {
     "data": {
      "text/html": [
       "<div>\n",
       "<style scoped>\n",
       "    .dataframe tbody tr th:only-of-type {\n",
       "        vertical-align: middle;\n",
       "    }\n",
       "\n",
       "    .dataframe tbody tr th {\n",
       "        vertical-align: top;\n",
       "    }\n",
       "\n",
       "    .dataframe thead th {\n",
       "        text-align: right;\n",
       "    }\n",
       "</style>\n",
       "<table border=\"1\" class=\"dataframe\">\n",
       "  <thead>\n",
       "    <tr style=\"text-align: right;\">\n",
       "      <th></th>\n",
       "      <th>loan_amnt</th>\n",
       "      <th>term</th>\n",
       "      <th>annual_inc</th>\n",
       "      <th>purpose</th>\n",
       "      <th>home_ownership</th>\n",
       "      <th>outcome</th>\n",
       "    </tr>\n",
       "  </thead>\n",
       "  <tbody>\n",
       "    <tr>\n",
       "      <td>100</td>\n",
       "      <td>4200</td>\n",
       "      <td>60 months</td>\n",
       "      <td>44500</td>\n",
       "      <td>home_improvement</td>\n",
       "      <td>OWN</td>\n",
       "      <td>default</td>\n",
       "    </tr>\n",
       "    <tr>\n",
       "      <td>101</td>\n",
       "      <td>18000</td>\n",
       "      <td>60 months</td>\n",
       "      <td>117000</td>\n",
       "      <td>debt_consolidation</td>\n",
       "      <td>MORTGAGE</td>\n",
       "      <td>paid off</td>\n",
       "    </tr>\n",
       "    <tr>\n",
       "      <td>102</td>\n",
       "      <td>4375</td>\n",
       "      <td>36 months</td>\n",
       "      <td>35000</td>\n",
       "      <td>house</td>\n",
       "      <td>RENT</td>\n",
       "      <td>default</td>\n",
       "    </tr>\n",
       "    <tr>\n",
       "      <td>103</td>\n",
       "      <td>15000</td>\n",
       "      <td>60 months</td>\n",
       "      <td>52884</td>\n",
       "      <td>debt_consolidation</td>\n",
       "      <td>MORTGAGE</td>\n",
       "      <td>paid off</td>\n",
       "    </tr>\n",
       "    <tr>\n",
       "      <td>104</td>\n",
       "      <td>24000</td>\n",
       "      <td>36 months</td>\n",
       "      <td>56758</td>\n",
       "      <td>debt_consolidation</td>\n",
       "      <td>MORTGAGE</td>\n",
       "      <td>paid off</td>\n",
       "    </tr>\n",
       "  </tbody>\n",
       "</table>\n",
       "</div>"
      ],
      "text/plain": [
       "     loan_amnt       term  annual_inc             purpose home_ownership  \\\n",
       "100       4200  60 months       44500    home_improvement            OWN   \n",
       "101      18000  60 months      117000  debt_consolidation       MORTGAGE   \n",
       "102       4375  36 months       35000               house           RENT   \n",
       "103      15000  60 months       52884  debt_consolidation       MORTGAGE   \n",
       "104      24000  36 months       56758  debt_consolidation       MORTGAGE   \n",
       "\n",
       "      outcome  \n",
       "100   default  \n",
       "101  paid off  \n",
       "102   default  \n",
       "103  paid off  \n",
       "104  paid off  "
      ]
     },
     "execution_count": 7,
     "metadata": {},
     "output_type": "execute_result"
    }
   ],
   "source": [
    "# 6. (1pt) Print out rows with labels 100 to 104 inclusive, with all columns, using .loc\n",
    "#   Note that we're using row labels and not positional index, so use .loc instead of .iloc\n",
    "\n",
    "df.loc[100:104]"
   ]
  },
  {
   "cell_type": "code",
   "execution_count": 8,
   "metadata": {},
   "outputs": [],
   "source": [
    "# 7. (1pt) What appears to be one numeric feature included in the dataset (column label)?\n",
    "\n",
    "# loan_amnt"
   ]
  },
  {
   "cell_type": "code",
   "execution_count": 9,
   "metadata": {},
   "outputs": [],
   "source": [
    "# 8. (1pt) What appears to be one categorical feature in the dataset?\n",
    "\n",
    "# purpose"
   ]
  },
  {
   "cell_type": "code",
   "execution_count": 10,
   "metadata": {},
   "outputs": [],
   "source": [
    "# 9. (1pt) What appears to be one ordinal feature in the dataset?\n",
    "\n",
    "# term"
   ]
  },
  {
   "cell_type": "code",
   "execution_count": 11,
   "metadata": {},
   "outputs": [
    {
     "data": {
      "image/png": "[encoded data removed]",
      "text/plain": [
       "<Figure size 432x288 with 1 Axes>"
      ]
     },
     "metadata": {
      "needs_background": "light"
     },
     "output_type": "display_data"
    }
   ],
   "source": [
    "# 10. (1pt) Plot the frequencies of the values in 'purpose' using .value_counts() and .plot.bar()\n",
    "df.purpose.value_counts().plot.bar();\n",
    "\n",
    "# 11. (1pt) label the y axis as 'frequency'\n",
    "plt.ylabel('frequency');"
   ]
  },
  {
   "cell_type": "code",
   "execution_count": 12,
   "metadata": {},
   "outputs": [
    {
     "data": {
      "text/plain": [
       "count    2.000000e+04\n",
       "mean     6.824335e+04\n",
       "std      4.420020e+04\n",
       "min      2.000000e+03\n",
       "25%      4.200000e+04\n",
       "50%      6.000000e+04\n",
       "75%      8.200000e+04\n",
       "max      1.200000e+06\n",
       "Name: annual_inc, dtype: float64"
      ]
     },
     "execution_count": 12,
     "metadata": {},
     "output_type": "execute_result"
    }
   ],
   "source": [
    "# 12. (1pt) Print out the summary statistics of the annual_inc column using .describe()\n",
    "\n",
    "df.annual_inc.describe()"
   ]
  },
  {
   "cell_type": "code",
   "execution_count": 13,
   "metadata": {},
   "outputs": [
    {
     "name": "stdout",
     "output_type": "stream",
     "text": [
      "mean - median = 8243.35\n"
     ]
    }
   ],
   "source": [
    "# There appears to be a fairly large difference between mean and median\n",
    "\n",
    "# 13. (1pt) calculate the mean of annual_inc using .mean()\n",
    "annual_inc_mean = df.annual_inc.mean()\n",
    "\n",
    "# 14. (1pt) calculate the median of annual_inc using .median()\n",
    "annual_inc_median = df.annual_inc.median()\n",
    "\n",
    "# 15. (1pt) what is the difference (to 2 significant digits) between the mean and median of annual_inc?\n",
    "diff = annual_inc_mean - annual_inc_median\n",
    "print(f'mean - median = {diff:0.2f}')"
   ]
  },
  {
   "cell_type": "code",
   "execution_count": 14,
   "metadata": {},
   "outputs": [],
   "source": [
    "# 16. (1pt) Why might there be such a large difference between mean and median?\n",
    "\n",
    "# The max value appears to be an outlier from the rest of the dataset. The median is robust to outliers, while the mean is not. This accounts for the possible large difference."
   ]
  },
  {
   "cell_type": "code",
   "execution_count": 15,
   "metadata": {},
   "outputs": [
    {
     "data": {
      "image/png": "[encoded data removed]",
      "text/plain": [
       "<Figure size 432x288 with 1 Axes>"
      ]
     },
     "metadata": {
      "needs_background": "light"
     },
     "output_type": "display_data"
    }
   ],
   "source": [
    "# 17. (1pt) Generate a boxplot of annual_inc using sns.boxplot\n",
    "sns.boxplot(df.annual_inc);"
   ]
  },
  {
   "cell_type": "code",
   "execution_count": 16,
   "metadata": {},
   "outputs": [
    {
     "name": "stdout",
     "output_type": "stream",
     "text": [
      "99th percentile of annual_inc: 225010.00\n"
     ]
    },
    {
     "data": {
      "image/png": "[encoded data removed]",
      "text/plain": [
       "<Figure size 432x432 with 3 Axes>"
      ]
     },
     "metadata": {
      "needs_background": "light"
     },
     "output_type": "display_data"
    }
   ],
   "source": [
    "# It certainly looks like annual_inc is skewed to the right.\n",
    "\n",
    "# 18. (1pt) What is the 99th percentile of annual_inc? (use np.percentile)\n",
    "#    Eg. Where is the cutoff where we remove extremely high values but keep 99% of the data?\n",
    "annual_inc_99 = np.percentile(df.annual_inc,99);\n",
    "print(f'99th percentile of annual_inc: {annual_inc_99:0.2f}')\n",
    "      \n",
    "# 19. (3pt) Plot loan_amnt (x-axis) against annual_inc (y-axis) using jointplot \n",
    "#     only including rows where annual_inc < annual_inc_99\n",
    "sns.jointplot(x='loan_amnt', y='annual_inc', data=df[df.annual_inc < annual_inc_99], kind='kde');"
   ]
  },
  {
   "cell_type": "code",
   "execution_count": 17,
   "metadata": {},
   "outputs": [
    {
     "name": "stdout",
     "output_type": "stream",
     "text": [
      "mean loan amount for debt consolidation for most annual incomes: 14166.53\n"
     ]
    }
   ],
   "source": [
    "# As we saw above, 'debt_consolidation' is the most common purpose for a loan.\n",
    "#\n",
    "# 20. (2pt) What is the mean loan_amnt where:\n",
    "#    df.purpose == 'debt_consolidation' and df.annual_inc < annual_inc_99?\n",
    "\n",
    "amnt = df.loc[(df.purpose == 'debt_consolidation') & (df.annual_inc < annual_inc_99),\"loan_amnt\"].mean()\n",
    "print(f'mean loan amount for debt consolidation for most annual incomes: {amnt:0.2f}')"
   ]
  },
  {
   "cell_type": "code",
   "execution_count": 18,
   "metadata": {},
   "outputs": [
    {
     "data": {
      "image/png": "[encoded data removed]",
      "text/plain": [
       "<Figure size 864x288 with 2 Axes>"
      ]
     },
     "metadata": {
      "needs_background": "light"
     },
     "output_type": "display_data"
    }
   ],
   "source": [
    "# One purpose of this dataset is to attempt to predict loan outcome.\n",
    "# Here, we'll create 2 plots, one of loan_amnt overall and another with loan_amnt by outcome.\n",
    "\n",
    "# 21. (2pt) create a subplot with 1 row and 2 columns with figsize of (12,4)\n",
    "fig,ax = fig,ax = plt.subplots(1,2,figsize=(12,4))\n",
    "\n",
    "# 22. (1pt) on the first set of axes (ax[0]) use distplot to plot the distribution of loan_amnt\n",
    "sns.distplot(df.loan_amnt, ax=ax[0]);\n",
    "\n",
    "# 23. (1pt) set the title on the first plot to be 'Loan Amount Overall'\n",
    "ax[0].set(title='Loan Amount Overall');\n",
    "\n",
    "# 24. (2pt) on the second set of axes (ax[1]) \n",
    "#    use loc and distplot to plot loan_amnt where df.outcome == 'paid off' and set label='paid off'\n",
    "sns.distplot(df.loc[df.outcome == 'paid off',\"loan_amnt\"], label='paid off', ax=ax[1]);\n",
    "\n",
    "# 25. (2pt) again on the second set of axes (ax[1]) \n",
    "#    use loc and distplot to plot loan_amnt where df.outcome == 'default' and set label='default'\n",
    "sns.distplot(df.loc[df.outcome == 'default',\"loan_amnt\"], label='default', ax=ax[1]);\n",
    "\n",
    "# 26. (1pt) set the title on the second plot to be 'Loan Amount by Outcome'\n",
    "ax[1].set(title='Loan Amount by Outcome');\n",
    "\n",
    "# 27. (1pt) finally, add a legend to ax[1]\n",
    "plt.legend();"
   ]
  },
  {
   "cell_type": "markdown",
   "metadata": {},
   "source": [
    "## Part 2: Hypothesis Testing with an A/B test"
   ]
  },
  {
   "cell_type": "markdown",
   "metadata": {},
   "source": [
    "Suppose we work at a large company that is developing online data science tools.\n",
    "\n",
    "Currently the tool has interface type A but we'd like to know if using interface tool B might be more efficient.\n",
    "To measure this, we'll look at length of active work on a project (aka project length).\n",
    "\n",
    "We'll perform an A/B test where half of the projects will use interface A and half will use interface B."
   ]
  },
  {
   "cell_type": "code",
   "execution_count": 19,
   "metadata": {},
   "outputs": [
    {
     "name": "stdout",
     "output_type": "stream",
     "text": [
      "<class 'pandas.core.frame.DataFrame'>\n",
      "RangeIndex: 1000 entries, 0 to 999\n",
      "Data columns (total 2 columns):\n",
      "lengths_A    1000 non-null float64\n",
      "lengths_B    1000 non-null float64\n",
      "dtypes: float64(2)\n",
      "memory usage: 15.8 KB\n"
     ]
    }
   ],
   "source": [
    "# 28. (2pt) Read in project lengths from '../data/project_lengths' into df_project and print out its .info\n",
    "df_project = pd.read_csv(\"../data/project_lengths.csv\")\n",
    "df_project.info()"
   ]
  },
  {
   "cell_type": "code",
   "execution_count": 20,
   "metadata": {},
   "outputs": [
    {
     "name": "stdout",
     "output_type": "stream",
     "text": [
      "observed difference: -1.58\n"
     ]
    }
   ],
   "source": [
    "# 29. (3pt) calculate the difference in mean project length between interface A and B (mean B - mean A)\n",
    "#     print the result with 2 significant digits\n",
    "observed_mean_diff = df_project.lengths_B.mean() - df_project.lengths_A.mean()\n",
    "print(f'observed difference: {observed_mean_diff:0.2f}')"
   ]
  },
  {
   "cell_type": "code",
   "execution_count": 21,
   "metadata": {},
   "outputs": [
    {
     "name": "stdout",
     "output_type": "stream",
     "text": [
      "10000\n"
     ]
    }
   ],
   "source": [
    "# We'll perform a permutation test to see how significant this result is\n",
    "# generate 10000 random permutation samples of mean difference\n",
    "\n",
    "rand_mean_diffs = [] \n",
    "n_samples = 10000\n",
    "combined_times = np.concatenate([df_project.lengths_A.values, df_project.lengths_B.values])\n",
    "n_A = sum(df_project.lengths_A.notnull()) # number of observations for page A\n",
    "\n",
    "for i in range(n_samples):\n",
    "    \n",
    "    # 30. (1pt) get a random permutation of combined_times\n",
    "    rand_perm = np.random.permutation(combined_times)\n",
    "    \n",
    "    # 31. (1pt) take the mean of the first n_A random values\n",
    "    rand_mean_A = rand_perm[:n_A].mean()\n",
    "    \n",
    "    # 32. (1pt) take the mean of the remaining random values\n",
    "    rand_mean_B = rand_perm[n_A:].mean()\n",
    "    \n",
    "    # 33. (1pt) append the difference (rand_mean_B - rand_mean_A) to rand_mean_diffs\n",
    "    rand_mean_diffs.append(rand_mean_B - rand_mean_A)\n",
    "    \n",
    "# check that we have the correct amount of data by printing out the length of rand_mean_diffs\n",
    "# this should equal n_samples\n",
    "print(len(rand_mean_diffs))"
   ]
  },
  {
   "cell_type": "code",
   "execution_count": 22,
   "metadata": {},
   "outputs": [],
   "source": [
    "# Before we plot the data, let's transform all values to their z-score\n",
    "\n",
    "# 34. (1pt) calculate the sample mean of our rand_mean_diffs using np.mean\n",
    "mean_rand_mean_diffs = np.mean(rand_mean_diffs)\n",
    "\n",
    "# 35. (1pt) calculate the sample standard deviation using np.std\n",
    "std_rand_mean_diffs = np.std(rand_mean_diffs)\n",
    "\n",
    "# 36. (2pt) transform rand_mean_diffs to rand_mean_diffs_zscore by subtracting the mean and dividing by the std dev\n",
    "rand_mean_diffs_zscore = (rand_mean_diffs - mean_rand_mean_diffs) / std_rand_mean_diffs\n",
    "\n",
    "# 37. (2pt) transform the observed_mean_diff to observed_mean_diff_zscore by subtracting the mean and dividing by the std dev\n",
    "observed_mean_diff_zscore = (observed_mean_diff - mean_rand_mean_diffs) / std_rand_mean_diffs"
   ]
  },
  {
   "cell_type": "code",
   "execution_count": 23,
   "metadata": {},
   "outputs": [
    {
     "data": {
      "image/png": "[encoded data removed]",
      "text/plain": [
       "<Figure size 432x288 with 1 Axes>"
      ]
     },
     "metadata": {
      "needs_background": "light"
     },
     "output_type": "display_data"
    }
   ],
   "source": [
    "# 38. (2pt) Use seaborn distplot to plot the distribution of rand_mean_diffs_zscore, capture the return in ax\n",
    "ax = sns.distplot(rand_mean_diffs_zscore);\n",
    "\n",
    "# 39. (2pt) use ax.vlines with *ax.get_ylim() to plot a line at our observed_mean_diff_zscore\n",
    "ax.vlines(observed_mean_diff_zscore, *ax.get_ylim(), color='r');"
   ]
  },
  {
   "cell_type": "code",
   "execution_count": 24,
   "metadata": {},
   "outputs": [
    {
     "name": "stdout",
     "output_type": "stream",
     "text": [
      "p_value: 0.044\n"
     ]
    }
   ],
   "source": [
    "# the plot seems to indicate a likely difference in scores\n",
    "# \n",
    "# 40. (3pt) calculate a two-tailed p_value (to three significant digits)\n",
    "#    using np.abs, len rand_mean_diffs and observed_mean_diff\n",
    "p_value = sum(np.abs(np.array(rand_mean_diffs)) >= np.abs(observed_mean_diff))/len(rand_mean_diffs)\n",
    "print(f'p_value: {p_value:0.3f}')"
   ]
  },
  {
   "cell_type": "code",
   "execution_count": null,
   "metadata": {},
   "outputs": [],
   "source": []
  }
 ],
 "metadata": {
  "kernelspec": {
   "display_name": "eods-f19",
   "language": "python",
   "name": "eods-f19"
  },
  "language_info": {
   "codemirror_mode": {
    "name": "ipython",
    "version": 3
   },
   "file_extension": ".py",
   "mimetype": "text/x-python",
   "name": "python",
   "nbconvert_exporter": "python",
   "pygments_lexer": "ipython3",
   "version": "3.7.4"
  }
 },
 "nbformat": 4,
 "nbformat_minor": 2
}
