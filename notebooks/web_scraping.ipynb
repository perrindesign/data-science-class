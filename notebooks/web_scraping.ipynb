{
 "cells": [
  {
   "cell_type": "markdown",
   "metadata": {
    "slideshow": {
     "slide_type": "slide"
    }
   },
   "source": [
    "## Webscraping"
   ]
  },
  {
   "cell_type": "code",
   "execution_count": 9,
   "metadata": {},
   "outputs": [],
   "source": [
    "import pandas as pd"
   ]
  },
  {
   "cell_type": "markdown",
   "metadata": {
    "slideshow": {
     "slide_type": "slide"
    }
   },
   "source": [
    "#### Basic html page\n",
    "\n",
    "```\n",
    "<!DOCTYPE html>\n",
    "<html>\n",
    "<head>\n",
    "    <title>Web Page!</title>\n",
    "    <style>\n",
    "        body {background-color: powderblue;}\n",
    "        h1   {color: blue;}\n",
    "        p    {color: red;}\n",
    "    </style>\n",
    "    <link rel=\"stylesheet\" href=\"styles.css\">\n",
    "    <script>\n",
    "        document.getElementById(\"demo\").innerHTML = \"Hello JavaScript!\";\n",
    "    </script>\n",
    "</head>\n",
    "<body>\n",
    "    <h1>A Very Bold Header</h1>\n",
    "    <div style=\"background-color:lightblue\">\n",
    "        <p>This is a paragraph.</p>\n",
    "    </div>\n",
    "</body>\n",
    "</html>\n",
    "```"
   ]
  },
  {
   "cell_type": "markdown",
   "metadata": {
    "slideshow": {
     "slide_type": "slide"
    }
   },
   "source": [
    "### nyc weather history\n",
    "\n",
    "http://w1.weather.gov/data/obhistory/KNYC.html"
   ]
  },
  {
   "cell_type": "code",
   "execution_count": 10,
   "metadata": {
    "slideshow": {
     "slide_type": "fragment"
    }
   },
   "outputs": [],
   "source": [
    "knyc_link = 'http://w1.weather.gov/data/obhistory/KNYC.html'"
   ]
  },
  {
   "cell_type": "code",
   "execution_count": 11,
   "metadata": {
    "slideshow": {
     "slide_type": "fragment"
    }
   },
   "outputs": [
    {
     "data": {
      "text/plain": [
       "<Response [200]>"
      ]
     },
     "execution_count": 11,
     "metadata": {},
     "output_type": "execute_result"
    }
   ],
   "source": [
    "import requests\n",
    "\n",
    "knyc_page = requests.get(knyc_link)\n",
    "knyc_page"
   ]
  },
  {
   "cell_type": "code",
   "execution_count": 12,
   "metadata": {
    "slideshow": {
     "slide_type": "fragment"
    }
   },
   "outputs": [
    {
     "name": "stdout",
     "output_type": "stream",
     "text": [
      "b'<!DOCTYPE HTML PUBLIC \"-//W3C//DTD HTML 4.0 Transitional//EN\">\\r\\n\\t\\t\\t\\t\\t\\t\\t<html><meta name=\"Author\" content=\"Leon Minton\"><head><title>\\r\\n\\t\\t\\t\\t\\t\\t\\tNational Weather Service : Observed Weather for past 3 Days : New York City, Central Park</title>\\r\\n\\t\\t\\t\\t\\t\\t\\t<link rel=\"STYLESHEET\" type=\"text/css\" href=\"/images/weather/fcicons/main.css\"></head>\\r\\n\\t\\t\\t\\t\\t\\t\\t<body bgcolor=\"#ffffff\" leftmargin=\"0\" topmargin=\"0\" marginwidth=\"0\" marginheight=\"0\" background=\"/images/weather/fcicons/gray_background.gif\">\\r\\n\\t\\t\\t\\t\\t\\t\\t<table cellspacing=\"0\" cellpadding=\"0\" border=\"0\" width=\"670\" background=\"/images/weather/fcicons/topbanner.jpg\">\\r\\n\\t\\t\\t\\t\\t\\t\\t<tr><td align=\"right\" height=\"19\"><a href=\"http://weather.gov\"><span class=\"nwslink\">weather.gov</span></a>&nbsp;&nbsp;&nbsp;</td></tr></table>\\r\\n\\t\\t\\t\\t\\t\\t\\t<table cellspacing=\"0\" cellpadding=\"0\" border=\"0\" width=\"670\"><tr valign=\"top\">\\r\\n\\t\\t\\t\\t\\t\\t\\t<td rowspan=\"2\"><a href=\"http://www.noaa.gov\"><img src=\"/images/weather/fcicons/noaaleft.jpg\" alt=\"NOAA logo - Click to go to the NOAA homepage\"'\n"
     ]
    }
   ],
   "source": [
    "# the first 1000 characters of the page\n",
    "print(knyc_page.content[:1000])"
   ]
  },
  {
   "cell_type": "code",
   "execution_count": 13,
   "metadata": {
    "slideshow": {
     "slide_type": "slide"
    }
   },
   "outputs": [],
   "source": [
    "# need to parse some html!\n",
    "from bs4 import BeautifulSoup"
   ]
  },
  {
   "cell_type": "code",
   "execution_count": 14,
   "metadata": {
    "slideshow": {
     "slide_type": "fragment"
    }
   },
   "outputs": [],
   "source": [
    "knyc_soup = BeautifulSoup(knyc_page.content)"
   ]
  },
  {
   "cell_type": "code",
   "execution_count": 15,
   "metadata": {
    "slideshow": {
     "slide_type": "fragment"
    }
   },
   "outputs": [
    {
     "name": "stdout",
     "output_type": "stream",
     "text": [
      "<!DOCTYPE HTML PUBLIC \"-//W3C//DTD HTML 4.0 Transitional//EN\">\n",
      "<html>\n",
      " <head>\n",
      "  <meta content=\"Leon Minton\" name=\"Author\"/>\n",
      "  <title>\n",
      "   National Weather Service : Observed Weather for past 3 Days : New York City, Central Park\n",
      "  </title>\n",
      "  <link href=\"/images/weather/fcicons/main.css\" rel=\"STYLESHEET\" type=\"text/css\"/>\n",
      " </head>\n",
      " <body background=\"/images/weather/fcicons/gray_background.gif\" bgcolor=\"#ffffff\" leftmargin=\"0\" marginheight=\"0\" marginwidth=\"0\" topmargin=\"0\">\n",
      "  <table background=\"/images/weather/fcicons/topbanner.jpg\" border=\"0\" cellpadding=\"0\" cellspacing=\"0\" width=\"670\">\n",
      "   <tr>\n",
      "    <td align=\"right\" height=\"19\">\n",
      "     <a href=\"http://weather.gov\">\n",
      "      <span class=\"nwslink\">\n",
      "       weather.gov\n",
      "      </span>\n",
      "     </a>\n",
      "    </td>\n",
      "   </tr>\n",
      "  </table>\n",
      "  <table border=\"0\" cellpadding=\"0\" cellspacing=\"0\" width=\"670\">\n",
      "   <tr valign=\"top\">\n",
      "    <td rowspan=\"2\">\n",
      "     <a href=\"http://www.noaa.gov\">\n",
      "      <img alt=\"NOAA logo - Click to go to the NOAA homepage\" border=\"0\" height=\"78\" s\n"
     ]
    }
   ],
   "source": [
    "# first 1000 characters more legibly\n",
    "print(knyc_soup.prettify()[:1000])"
   ]
  },
  {
   "cell_type": "code",
   "execution_count": 16,
   "metadata": {
    "slideshow": {
     "slide_type": "slide"
    }
   },
   "outputs": [
    {
     "name": "stdout",
     "output_type": "stream",
     "text": [
      "<table border=\"0\" cellpadding=\"2\" cellspacing=\"3\" width=\"670\"><tr align=\"center\" bgcolor=\"#b0c4de\"><th rowspan=\"3\" width=\"17\">D<br/>a<br/>t<br/>e</th><th rowspan=\"3\" width=\"32\">Time<br/>(est)</th>\n",
      "<th rowspan=\"3\" width=\"80\">Wind<br/>(mph)</th><th rowspan=\"3\" width=\"40\">Vis.<br/>(mi.)</th><th rowspan=\"3\" width=\"80\">Weather</th><th rowspan=\"3\" width=\"65\">Sky Cond.</th>\n",
      "<th colspan=\"4\">Temperature (ºF)</th><th rowspan=\"3\" width=\"65\">Relative<br/>Humidity</th><th rowspan=\"3\" width=\"80\">Wind<br/>Chill<br/>(°F)</th><th rowspan=\"3\" width=\"80\">Heat<br/>Index<br/>(°F)</th><th colspan=\"2\">Pressure</th><th colspan=\"3\">Precipitation (in.)</th></tr>\n",
      "<tr align=\"center\" bgcolor=\"#b0c4de\"><th rowspan=\"2\" width=\"45\">Air</th><th rowspan=\"2\" width=\"26\">Dwpt</th><th colspan=\"2\">6 hour</th>\n",
      "<th rowspan=\"2\" width=\"40\">altimeter<br/>(in)</th><th rowspan=\"2\" width=\"40\">sea level<br/>(mb)</th><th rowspan=\"2\" width=\"24\">1 hr</th>\n",
      "<th rowspan=\"2\" width=\"24\">3 hr</th><th rowspan=\"2\" width=\"30\">6 hr</th></tr>\n",
      "<tr align=\"center\" bgcolor=\"#b0c4de\"><th width=\"26\">Max.</th><th width=\"26\">Min.</th></tr><tr align=\"center\" bgcolor=\"#eeeeee\" valign=\"top\"><td>02</td><td align=\"right\">13:51</td><td>Vrbl 6</td><td>0.75</td><td align=\"left\"> Light Snow Fog/Mist</td><td>BKN007 OVC012</td><td>33</td><td>31</td>\n",
      "<td></td><td></td><td>92%</td><td>27</td><td>NA</td><td>29.51</td><td>998.5</td><td>0.07</td><td></td><td></td></tr><tr align=\"center\" bgcolor=\"#f5f5f5\" valign=\"top\"><td>02</td><td align=\"right\">12:51</td><td>Vrbl 5</td><td>0.75</td><td align=\"left\"> Light Snow Fog/Mist</td><td>OVC006</td><td>33</td><td>31</td>\n",
      "<td>36</td><td>33</td><td>92%</td><td>28</td><td>NA</td><td>29.51</td><td>998.6</td><td>0.07</td><td></td><td>0.13</td></tr><tr align=\"center\" bgcolor=\"#eeeeee\" valign=\"top\"><td>02</td><td align=\"right\">11:51</td><td>Vrbl 7</td><td>1.75</td><td align=\"left\"> Light Snow Fog/Mist</td><td>BKN007 OVC012</td><td>34</td><td>31</td>\n",
      "<td></td><td></td><td>89%</td><td>28</td><td>NA</td><td>29.52</td><td>999.0</td><td>0.04</td><td></td><td></td></tr><tr align=\"center\" bgcolor=\"#f5f5f5\" valign=\"top\"><td>02</td><td align=\"right\">10:51</td><td>Vrbl 5</td><td>3.00</td><td align=\"left\"> Light Rain Fog/Mist</td><td>OVC009</td><td>35</td><td>33</td>\n",
      "<td></td><td></td><td>93%</td><td>31</td><td>NA</td><td>29.53</td><td>999.4</td><td></td><td></td><td></td></tr><tr align=\"center\" bgcolor=\"#eeeeee\" valign=\"top\"><td>02</td><td align=\"right\">09:51</td><td>NE 10 G 21</td><td>7.00</td><td align=\"left\">Overcast</td><td>OVC009</td><td>35</td><td>33</td>\n",
      "<td></td><td></td><td>93%</td><td>27</td><td>NA</td><td>29.54</td><td>999.6</td><td></td><td>0.02</td><td></td></tr><tr align=\"center\" bgcolor=\"#f5f5f5\" valign=\"top\"><td>02</td><td align=\"right\">08:51</td><td>N 8 G 16</td><td>5.00</td><td align=\"left\"> Light Rain Fog/Mist</td><td>BKN008 OVC012</td><td>36</td><td>33</td>\n",
      "<td></td><td></td><td>89%</td><td>30</td><td>NA</td><td>29.54</td><td>999.4</td><td>0.02</td><td></td><td></td></tr><tr align=\"center\" bgcolor=\"#eeeeee\" valign=\"top\"><td>02</td><td align=\"right\">07:51</td><td>Vrbl 7</td><td>7.00</td><td align=\"left\">Overcast</td><td>OVC011</td><td>36</td><td>33</td>\n",
      "<td></td><td></td><td>89%</td><td>30</td><td>NA</td><td>29.53</td><td>999.3</td><td></td><td></td><td></td></tr><tr align=\"center\" bgcolor=\"#f5f5f5\" valign=\"top\"><td>02</td><td align=\"right\">06:51</td><td>NE 9 G 18</td><td>10.00</td><td align=\"left\">Overcast</td><td>OVC012</td><td>36</td><td>33</td>\n",
      "<td>37</td><td>36</td><td>89%</td><td>29</td><td>NA</td><td>29.51</td><td>998.6</td><td></td><td></td><td>0.03</td></tr><tr align=\"center\" bgcolor=\"#eeeeee\" valign=\"top\"><td>02</td><td align=\"right\">05:51</td><td>NE 8 G 18</td><td>8.00</td><td align=\"left\"> Light Rain</td><td>OVC012</td><td>36</td><td>34</td>\n",
      "<td></td><td></td><td>93%</td><td>30</td><td>NA</td><td>29.51</td><td>998.6</td><td>0.01</td><td></td><td></td></tr><tr align=\"center\" bgcolor=\"#f5f5f5\" valign=\"top\"><td>02</td><td align=\"right\">04:51</td><td>NE 10 G 20</td><td>7.00</td><td align=\"left\"> Light Rain</td><td>OVC012</td><td>36</td><td>33</td>\n",
      "<td></td><td></td><td>89%</td><td>29</td><td>NA</td><td>29.52</td><td>998.7</td><td>0.02</td><td></td><td></td></tr><tr align=\"center\" bgcolor=\"#eeeeee\" valign=\"top\"><td>02</td><td align=\"right\">03:51</td><td>NE 12 G 21</td><td>10.00</td><td align=\"left\"> Light Rain</td><td>OVC011</td><td>37</td><td>33</td>\n",
      "<td></td><td></td><td>86%</td><td>29</td><td>NA</td><td>29.51</td><td>998.5</td><td></td><td></td><td></td></tr><tr align=\"center\" bgcolor=\"#f5f5f5\" valign=\"top\"><td>02</td><td align=\"right\">02:51</td><td>NE 13 G 21</td><td>10.00</td><td align=\"left\">Overcast</td><td>OVC010</td><td>37</td><td>33</td>\n",
      "<td></td><td></td><td>86%</td><td>29</td><td>NA</td><td>29.50</td><td>998.2</td><td></td><td></td><td></td></tr><tr align=\"center\" bgcolor=\"#eeeeee\" valign=\"top\"><td>02</td><td align=\"right\">01:51</td><td>NE 15 G 24</td><td>10.00</td><td align=\"left\">Overcast</td><td>OVC009</td><td>37</td><td>34</td>\n",
      "<td></td><td></td><td>89%</td><td>28</td><td>NA</td><td>29.51</td><td>998.4</td><td></td><td></td><td></td></tr><tr align=\"center\" bgcolor=\"#f5f5f5\" valign=\"top\"><td>02</td><td align=\"right\">00:51</td><td>NE 14 G 23</td><td>9.00</td><td align=\"left\">Overcast</td><td>OVC008</td><td>37</td><td>34</td>\n",
      "<td>38</td><td>36</td><td>89%</td><td>28</td><td>NA</td><td>29.50</td><td>998.1</td><td>0.01</td><td></td><td>0.06</td></tr><tr align=\"center\" bgcolor=\"#eeeeee\" valign=\"top\"><td>01</td><td align=\"right\">23:51</td><td>NE 16 G 24</td><td>5.00</td><td align=\"left\"> Light Rain Fog/Mist</td><td>OVC009</td><td>37</td><td>34</td>\n",
      "<td></td><td></td><td>89%</td><td>28</td><td>NA</td><td>29.53</td><td>999.4</td><td></td><td></td><td></td></tr><tr align=\"center\" bgcolor=\"#f5f5f5\" valign=\"top\"><td>01</td><td align=\"right\">22:51</td><td>NE 7 G 32</td><td>7.00</td><td align=\"left\">Overcast</td><td>OVC008</td><td>36</td><td>34</td>\n",
      "<td></td><td></td><td>93%</td><td>30</td><td>NA</td><td>29.54</td><td>999.7</td><td></td><td></td><td></td></tr><tr align=\"center\" bgcolor=\"#eeeeee\" valign=\"top\"><td>01</td><td align=\"right\">21:51</td><td>NE 17 G 35</td><td>7.00</td><td align=\"left\"> Light Snow</td><td>OVC007</td><td>37</td><td>34</td>\n",
      "<td></td><td></td><td>89%</td><td>27</td><td>NA</td><td>29.52</td><td>999.0</td><td></td><td></td><td></td></tr><tr align=\"center\" bgcolor=\"#f5f5f5\" valign=\"top\"><td>01</td><td align=\"right\">20:51</td><td>NE 12 G 25</td><td>4.00</td><td align=\"left\"> Light Rain Fog/Mist</td><td>OVC006</td><td>37</td><td>35</td>\n",
      "<td></td><td></td><td>93%</td><td>29</td><td>NA</td><td>29.55</td><td>999.9</td><td>0.02</td><td></td><td></td></tr><tr align=\"center\" bgcolor=\"#eeeeee\" valign=\"top\"><td>01</td><td align=\"right\">19:51</td><td>E 13 G 26</td><td>6.00</td><td align=\"left\"> Light Rain Fog/Mist</td><td>OVC005</td><td>36</td><td>34</td>\n",
      "<td></td><td></td><td>93%</td><td>27</td><td>NA</td><td>29.58</td><td>1000.8</td><td>0.03</td><td></td><td></td></tr><tr align=\"center\" bgcolor=\"#f5f5f5\" valign=\"top\"><td>01</td><td align=\"right\">18:51</td><td>NE 16 G 26</td><td>4.00</td><td align=\"left\"> Light Rain Fog/Mist</td><td>OVC008</td><td>39</td><td>37</td>\n",
      "<td>39</td><td>32</td><td>93%</td><td>30</td><td>NA</td><td>29.62</td><td>1002.4</td><td>0.08</td><td></td><td>0.54</td></tr><tr align=\"center\" bgcolor=\"#eeeeee\" valign=\"top\"><td>01</td><td align=\"right\">17:51</td><td>NE 10 G 26</td><td>4.00</td><td align=\"left\"> Rain Fog/Mist</td><td>OVC007</td><td>38</td><td>36</td>\n",
      "<td></td><td></td><td>93%</td><td>31</td><td>NA</td><td>29.66</td><td>1003.5</td><td>0.14</td><td></td><td></td></tr><tr align=\"center\" bgcolor=\"#f5f5f5\" valign=\"top\"><td>01</td><td align=\"right\">16:51</td><td>E 12 G 18</td><td>2.00</td><td align=\"left\"> Heavy Rain Fog/Mist</td><td>OVC005</td><td>36</td><td>34</td>\n",
      "<td></td><td></td><td>93%</td><td>28</td><td>NA</td><td>29.66</td><td>1003.7</td><td>0.15</td><td></td><td></td></tr><tr align=\"center\" bgcolor=\"#eeeeee\" valign=\"top\"><td>01</td><td align=\"right\">15:51</td><td>NE 10 G 22</td><td>4.00</td><td align=\"left\"> Light Rain Fog/Mist</td><td>OVC006</td><td>33</td><td>31</td>\n",
      "<td></td><td></td><td>92%</td><td>25</td><td>NA</td><td>29.72</td><td>1005.8</td><td>0.02</td><td>0.17</td><td></td></tr><tr align=\"center\" bgcolor=\"#f5f5f5\" valign=\"top\"><td>01</td><td align=\"right\">14:51</td><td>NE 14 G 21</td><td>5.00</td><td align=\"left\"> Light Rain Fog/Mist</td><td>OVC007</td><td>33</td><td>31</td>\n",
      "<td></td><td></td><td>92%</td><td>23</td><td>NA</td><td>29.76</td><td>1007.1</td><td>0.05</td><td></td><td></td></tr><tr align=\"center\" bgcolor=\"#eeeeee\" valign=\"top\"><td>01</td><td align=\"right\">13:51</td><td>NE 13 G 18</td><td>2.50</td><td align=\"left\"> Unknown Precip Fog/Mist</td><td>OVC009</td><td>32</td><td>29</td>\n",
      "<td></td><td></td><td>88%</td><td>22</td><td>NA</td><td>29.82</td><td>1009.0</td><td>0.10</td><td></td><td></td></tr><tr align=\"center\" bgcolor=\"#f5f5f5\" valign=\"top\"><td>01</td><td align=\"right\">12:51</td><td>NE 10 G 21</td><td>8.00</td><td align=\"left\"> Unknown Precip</td><td>BKN012 BKN017 OVC049</td><td>32</td><td>28</td>\n",
      "<td>33</td><td>30</td><td>85%</td><td>24</td><td>NA</td><td>29.87</td><td>1010.7</td><td></td><td></td><td>0.02</td></tr><tr align=\"center\" bgcolor=\"#eeeeee\" valign=\"top\"><td>01</td><td align=\"right\">11:51</td><td>NE 8</td><td>4.00</td><td align=\"left\"> Light Freezing Rain</td><td>SCT019 OVC050</td><td>32</td><td>27</td>\n",
      "<td></td><td></td><td>82%</td><td>25</td><td>NA</td><td>29.91</td><td>1012.2</td><td>0.02</td><td></td><td></td></tr><tr align=\"center\" bgcolor=\"#f5f5f5\" valign=\"top\"><td>01</td><td align=\"right\">10:51</td><td>NE 7</td><td>10.00</td><td align=\"left\">Overcast</td><td>BKN060 OVC075</td><td>33</td><td>23</td>\n",
      "<td></td><td></td><td>66%</td><td>27</td><td>NA</td><td>29.97</td><td>1014.1</td><td></td><td></td><td></td></tr><tr align=\"center\" bgcolor=\"#eeeeee\" valign=\"top\"><td>01</td><td align=\"right\">09:51</td><td>NE 7</td><td>10.00</td><td align=\"left\">Overcast</td><td>OVC060</td><td>32</td><td>22</td>\n",
      "<td></td><td></td><td>66%</td><td>25</td><td>NA</td><td>29.99</td><td>1014.7</td><td></td><td></td><td></td></tr><tr align=\"center\" bgcolor=\"#f5f5f5\" valign=\"top\"><td>01</td><td align=\"right\">08:51</td><td>NE 9</td><td>10.00</td><td align=\"left\">Overcast</td><td>OVC075</td><td>31</td><td>17</td>\n",
      "<td></td><td></td><td>56%</td><td>23</td><td>NA</td><td>29.96</td><td>1013.8</td><td></td><td></td><td></td></tr><tr align=\"center\" bgcolor=\"#eeeeee\" valign=\"top\"><td>01</td><td align=\"right\">07:51</td><td>NE 13</td><td>10.00</td><td align=\"left\">Mostly Cloudy</td><td>SCT090 BKN120</td><td>30</td><td>14</td>\n",
      "<td></td><td></td><td>51%</td><td>20</td><td>NA</td><td>29.98</td><td>1014.6</td><td></td><td></td><td></td></tr><tr align=\"center\" bgcolor=\"#f5f5f5\" valign=\"top\"><td>01</td><td align=\"right\">06:51</td><td>NE 6</td><td>10.00</td><td align=\"left\">Fair</td><td>CLR</td><td>31</td><td>13</td>\n",
      "<td>33</td><td>30</td><td>47%</td><td>25</td><td>NA</td><td>30.02</td><td>1015.7</td><td></td><td></td><td></td></tr><tr align=\"center\" bgcolor=\"#eeeeee\" valign=\"top\"><td>01</td><td align=\"right\">05:51</td><td>Vrbl 5</td><td>10.00</td><td align=\"left\">Fair</td><td>CLR</td><td>30</td><td>11</td>\n",
      "<td></td><td></td><td>45%</td><td>25</td><td>NA</td><td>30.03</td><td>1016.1</td><td></td><td></td><td></td></tr><tr align=\"center\" bgcolor=\"#f5f5f5\" valign=\"top\"><td>01</td><td align=\"right\">04:51</td><td>Vrbl 7</td><td>10.00</td><td align=\"left\">Fair</td><td>CLR</td><td>30</td><td>12</td>\n",
      "<td></td><td></td><td>47%</td><td>23</td><td>NA</td><td>30.03</td><td>1016.2</td><td></td><td></td><td></td></tr><tr align=\"center\" bgcolor=\"#eeeeee\" valign=\"top\"><td>01</td><td align=\"right\">03:51</td><td>NE 8</td><td>10.00</td><td align=\"left\">Fair</td><td>CLR</td><td>31</td><td>13</td>\n",
      "<td></td><td></td><td>47%</td><td>24</td><td>NA</td><td>30.02</td><td>1015.8</td><td></td><td></td><td></td></tr><tr align=\"center\" bgcolor=\"#f5f5f5\" valign=\"top\"><td>01</td><td align=\"right\">02:51</td><td>Vrbl 6</td><td>10.00</td><td align=\"left\">Fair</td><td>CLR</td><td>32</td><td>16</td>\n",
      "<td></td><td></td><td>52%</td><td>26</td><td>NA</td><td>30.02</td><td>1015.9</td><td></td><td></td><td></td></tr><tr align=\"center\" bgcolor=\"#eeeeee\" valign=\"top\"><td>01</td><td align=\"right\">01:51</td><td>N 5</td><td>10.00</td><td align=\"left\">Fair</td><td>CLR</td><td>32</td><td>15</td>\n",
      "<td></td><td></td><td>50%</td><td>27</td><td>NA</td><td>30.04</td><td>1016.4</td><td></td><td></td><td></td></tr><tr align=\"center\" bgcolor=\"#f5f5f5\" valign=\"top\"><td>01</td><td align=\"right\">00:51</td><td>NE 7</td><td>10.00</td><td align=\"left\">Fair</td><td>CLR</td><td>33</td><td>16</td>\n",
      "<td>40</td><td>33</td><td>49%</td><td>27</td><td>NA</td><td>30.02</td><td>1015.7</td><td></td><td></td><td></td></tr><tr align=\"center\" bgcolor=\"#eeeeee\" valign=\"top\"><td>30</td><td align=\"right\">23:51</td><td>N 5</td><td>10.00</td><td align=\"left\">Fair</td><td>CLR</td><td>34</td><td>16</td>\n",
      "<td></td><td></td><td>48%</td><td>29</td><td>NA</td><td>30.02</td><td>1015.9</td><td></td><td></td><td></td></tr><tr align=\"center\" bgcolor=\"#f5f5f5\" valign=\"top\"><td>30</td><td align=\"right\">22:51</td><td>NE 5</td><td>10.00</td><td align=\"left\">Fair</td><td>CLR</td><td>35</td><td>14</td>\n",
      "<td></td><td></td><td>42%</td><td>31</td><td>NA</td><td>30.04</td><td>1016.5</td><td></td><td></td><td></td></tr><tr align=\"center\" bgcolor=\"#eeeeee\" valign=\"top\"><td>30</td><td align=\"right\">21:51</td><td>N 5</td><td>10.00</td><td align=\"left\">Fair</td><td>CLR</td><td>36</td><td>17</td>\n",
      "<td></td><td></td><td>46%</td><td>32</td><td>NA</td><td>30.03</td><td>1016.1</td><td></td><td></td><td></td></tr><tr align=\"center\" bgcolor=\"#f5f5f5\" valign=\"top\"><td>30</td><td align=\"right\">20:51</td><td>Calm</td><td>10.00</td><td align=\"left\">Fair</td><td>CLR</td><td>37</td><td>16</td>\n",
      "<td></td><td></td><td>42%</td><td>NA</td><td>NA</td><td>30.03</td><td>1016.2</td><td></td><td></td><td></td></tr><tr align=\"center\" bgcolor=\"#eeeeee\" valign=\"top\"><td>30</td><td align=\"right\">19:51</td><td>Vrbl 5</td><td>10.00</td><td align=\"left\">Fair</td><td>CLR</td><td>38</td><td>16</td>\n",
      "<td></td><td></td><td>41%</td><td>34</td><td>NA</td><td>30.04</td><td>1016.5</td><td></td><td></td><td></td></tr><tr align=\"center\" bgcolor=\"#f5f5f5\" valign=\"top\"><td>30</td><td align=\"right\">18:51</td><td>Calm</td><td>10.00</td><td align=\"left\">Fair</td><td>CLR</td><td>40</td><td>13</td>\n",
      "<td>43</td><td>40</td><td>33%</td><td>NA</td><td>NA</td><td>30.04</td><td>1016.4</td><td></td><td></td><td></td></tr><tr align=\"center\" bgcolor=\"#eeeeee\" valign=\"top\"><td>30</td><td align=\"right\">17:51</td><td>N 3</td><td>10.00</td><td align=\"left\">Fair</td><td>CLR</td><td>41</td><td>14</td>\n",
      "<td></td><td></td><td>33%</td><td>NA</td><td>NA</td><td>30.04</td><td>1016.6</td><td></td><td></td><td></td></tr><tr align=\"center\" bgcolor=\"#f5f5f5\" valign=\"top\"><td>30</td><td align=\"right\">16:51</td><td>Calm</td><td>10.00</td><td align=\"left\">Fair</td><td>CLR</td><td>41</td><td>12</td>\n",
      "<td></td><td></td><td>30%</td><td>NA</td><td>NA</td><td>30.02</td><td>1015.9</td><td></td><td></td><td></td></tr><tr align=\"center\" bgcolor=\"#eeeeee\" valign=\"top\"><td>30</td><td align=\"right\">15:51</td><td>Calm</td><td>10.00</td><td align=\"left\">Fair</td><td>CLR</td><td>42</td><td>11</td>\n",
      "<td></td><td></td><td>28%</td><td>NA</td><td>NA</td><td>30.02</td><td>1015.7</td><td></td><td></td><td></td></tr><tr align=\"center\" bgcolor=\"#f5f5f5\" valign=\"top\"><td>30</td><td align=\"right\">14:51</td><td>Vrbl 5</td><td>10.00</td><td align=\"left\">Fair</td><td>CLR</td><td>42</td><td>11</td>\n",
      "<td></td><td></td><td>28%</td><td>39</td><td>NA</td><td>30.02</td><td>1015.7</td><td></td><td></td><td></td></tr><tr align=\"center\" bgcolor=\"#eeeeee\" valign=\"top\"><td>30</td><td align=\"right\">13:51</td><td>Vrbl 3</td><td>10.00</td><td align=\"left\">Fair</td><td>CLR</td><td>43</td><td>11</td>\n",
      "<td></td><td></td><td>27%</td><td>NA</td><td>NA</td><td>30.01</td><td>1015.4</td><td></td><td></td><td></td></tr><tr align=\"center\" bgcolor=\"#f5f5f5\" valign=\"top\"><td>30</td><td align=\"right\">12:51</td><td>Vrbl 5</td><td>10.00</td><td align=\"left\">Fair</td><td>CLR</td><td>41</td><td>8</td>\n",
      "<td>42</td><td>31</td><td>25%</td><td>38</td><td>NA</td><td>30.03</td><td>1016.1</td><td></td><td></td><td></td></tr><tr align=\"center\" bgcolor=\"#eeeeee\" valign=\"top\"><td>30</td><td align=\"right\">11:51</td><td>W 6</td><td>10.00</td><td align=\"left\">Fair</td><td>CLR</td><td>40</td><td>11</td>\n",
      "<td></td><td></td><td>30%</td><td>36</td><td>NA</td><td>30.06</td><td>1017.2</td><td></td><td></td><td></td></tr><tr align=\"center\" bgcolor=\"#f5f5f5\" valign=\"top\"><td>30</td><td align=\"right\">10:51</td><td>Vrbl 6</td><td>10.00</td><td align=\"left\">Fair</td><td>CLR</td><td>36</td><td>16</td>\n",
      "<td></td><td></td><td>44%</td><td>31</td><td>NA</td><td>30.10</td><td>1018.6</td><td></td><td></td><td></td></tr><tr align=\"center\" bgcolor=\"#eeeeee\" valign=\"top\"><td>30</td><td align=\"right\">09:51</td><td>W 8</td><td>10.00</td><td align=\"left\">Fair</td><td>CLR</td><td>34</td><td>17</td>\n",
      "<td></td><td></td><td>50%</td><td>27</td><td>NA</td><td>30.12</td><td>1019.1</td><td></td><td></td><td></td></tr><tr align=\"center\" bgcolor=\"#f5f5f5\" valign=\"top\"><td>30</td><td align=\"right\">08:51</td><td>N 7</td><td>10.00</td><td align=\"left\">Fair</td><td>CLR</td><td>32</td><td>18</td>\n",
      "<td></td><td></td><td>56%</td><td>25</td><td>NA</td><td>30.10</td><td>1018.6</td><td></td><td></td><td></td></tr><tr align=\"center\" bgcolor=\"#eeeeee\" valign=\"top\"><td>30</td><td align=\"right\">07:51</td><td>Vrbl 7</td><td>10.00</td><td align=\"left\">Fair</td><td>CLR</td><td>31</td><td>19</td>\n",
      "<td></td><td></td><td>61%</td><td>24</td><td>NA</td><td>30.11</td><td>1018.8</td><td></td><td></td><td></td></tr><tr align=\"center\" bgcolor=\"#f5f5f5\" valign=\"top\"><td>30</td><td align=\"right\">06:51</td><td>Vrbl 5</td><td>10.00</td><td align=\"left\">Fair</td><td>CLR</td><td>31</td><td>19</td>\n",
      "<td>35</td><td>31</td><td>61%</td><td>26</td><td>NA</td><td>30.10</td><td>1018.5</td><td></td><td></td><td></td></tr><tr align=\"center\" bgcolor=\"#eeeeee\" valign=\"top\"><td>30</td><td align=\"right\">05:51</td><td>N 8</td><td>10.00</td><td align=\"left\">Fair</td><td>CLR</td><td>31</td><td>19</td>\n",
      "<td></td><td></td><td>61%</td><td>24</td><td>NA</td><td>30.10</td><td>1018.4</td><td></td><td></td><td></td></tr><tr align=\"center\" bgcolor=\"#f5f5f5\" valign=\"top\"><td>30</td><td align=\"right\">04:51</td><td>Vrbl 5</td><td>10.00</td><td align=\"left\">Partly Cloudy</td><td>SCT110</td><td>32</td><td>20</td>\n",
      "<td></td><td></td><td>61%</td><td>27</td><td>NA</td><td>30.09</td><td>1018.1</td><td></td><td></td><td></td></tr><tr align=\"center\" bgcolor=\"#eeeeee\" valign=\"top\"><td>30</td><td align=\"right\">03:51</td><td>Vrbl 5</td><td>10.00</td><td align=\"left\">Overcast</td><td>OVC110</td><td>33</td><td>20</td>\n",
      "<td></td><td></td><td>58%</td><td>28</td><td>NA</td><td>30.08</td><td>1017.7</td><td></td><td></td><td></td></tr><tr align=\"center\" bgcolor=\"#f5f5f5\" valign=\"top\"><td>30</td><td align=\"right\">02:51</td><td>W 6</td><td>10.00</td><td align=\"left\">Fair</td><td>CLR</td><td>33</td><td>20</td>\n",
      "<td></td><td></td><td>58%</td><td>27</td><td>NA</td><td>30.10</td><td>1018.3</td><td></td><td></td><td></td></tr><tr align=\"center\" bgcolor=\"#eeeeee\" valign=\"top\"><td>30</td><td align=\"right\">01:51</td><td>Vrbl 5</td><td>10.00</td><td align=\"left\">Fair</td><td>CLR</td><td>35</td><td>20</td>\n",
      "<td></td><td></td><td>54%</td><td>31</td><td>NA</td><td>30.10</td><td>1018.5</td><td></td><td></td><td></td></tr><tr align=\"center\" bgcolor=\"#f5f5f5\" valign=\"top\"><td>30</td><td align=\"right\">00:51</td><td>Vrbl 3</td><td>10.00</td><td align=\"left\">Fair</td><td>CLR</td><td>35</td><td>19</td>\n",
      "<td>37</td><td>35</td><td>52%</td><td>NA</td><td>NA</td><td>30.10</td><td>1018.6</td><td></td><td></td><td></td></tr><tr align=\"center\" bgcolor=\"#eeeeee\" valign=\"top\"><td>29</td><td align=\"right\">23:51</td><td>N 6</td><td>10.00</td><td align=\"left\">Fair</td><td>CLR</td><td>35</td><td>20</td>\n",
      "<td></td><td></td><td>54%</td><td>30</td><td>NA</td><td>30.12</td><td>1019.0</td><td></td><td></td><td></td></tr><tr align=\"center\" bgcolor=\"#f5f5f5\" valign=\"top\"><td>29</td><td align=\"right\">22:51</td><td>Vrbl 3</td><td>10.00</td><td align=\"left\">Fair</td><td>CLR</td><td>35</td><td>20</td>\n",
      "<td></td><td></td><td>54%</td><td>NA</td><td>NA</td><td>30.13</td><td>1019.5</td><td></td><td></td><td></td></tr><tr align=\"center\" bgcolor=\"#eeeeee\" valign=\"top\"><td>29</td><td align=\"right\">21:51</td><td>Vrbl 6</td><td>10.00</td><td align=\"left\">Fair</td><td>CLR</td><td>36</td><td>21</td>\n",
      "<td></td><td></td><td>55%</td><td>31</td><td>NA</td><td>30.14</td><td>1020.0</td><td></td><td></td><td></td></tr><tr align=\"center\" bgcolor=\"#f5f5f5\" valign=\"top\"><td>29</td><td align=\"right\">20:51</td><td>Vrbl 3</td><td>10.00</td><td align=\"left\">Fair</td><td>CLR</td><td>36</td><td>22</td>\n",
      "<td></td><td></td><td>57%</td><td>NA</td><td>NA</td><td>30.15</td><td>1020.3</td><td></td><td></td><td></td></tr><tr align=\"center\" bgcolor=\"#eeeeee\" valign=\"top\"><td>29</td><td align=\"right\">19:51</td><td>N 6</td><td>10.00</td><td align=\"left\">Fair</td><td>CLR</td><td>36</td><td>22</td>\n",
      "<td></td><td></td><td>57%</td><td>31</td><td>NA</td><td>30.16</td><td>1020.5</td><td></td><td></td><td></td></tr><tr align=\"center\" bgcolor=\"#f5f5f5\" valign=\"top\"><td>29</td><td align=\"right\">18:51</td><td>Vrbl 5</td><td>10.00</td><td align=\"left\">Fair</td><td>CLR</td><td>37</td><td>22</td>\n",
      "<td>40</td><td>37</td><td>54%</td><td>33</td><td>NA</td><td>30.17</td><td>1021.0</td><td></td><td></td><td></td></tr><tr align=\"center\" bgcolor=\"#eeeeee\" valign=\"top\"><td>29</td><td align=\"right\">17:51</td><td>Vrbl 6</td><td>10.00</td><td align=\"left\">Fair</td><td>CLR</td><td>39</td><td>22</td>\n",
      "<td></td><td></td><td>50%</td><td>35</td><td>NA</td><td>30.16</td><td>1020.7</td><td></td><td></td><td></td></tr><tr align=\"center\" bgcolor=\"#f5f5f5\" valign=\"top\"><td>29</td><td align=\"right\">16:51</td><td>NW 9</td><td>10.00</td><td align=\"left\">Fair</td><td>CLR</td><td>39</td><td>21</td>\n",
      "<td></td><td></td><td>48%</td><td>33</td><td>NA</td><td>30.16</td><td>1020.7</td><td></td><td></td><td></td></tr><tr align=\"center\" bgcolor=\"#eeeeee\" valign=\"top\"><td>29</td><td align=\"right\">15:51</td><td>NW 7</td><td>10.00</td><td align=\"left\">Fair</td><td>CLR</td><td>40</td><td>21</td>\n",
      "<td></td><td></td><td>47%</td><td>35</td><td>NA</td><td>30.15</td><td>1020.3</td><td></td><td></td><td></td></tr><tr align=\"center\" bgcolor=\"#f5f5f5\" valign=\"top\"><td>29</td><td align=\"right\">14:51</td><td>N 8</td><td>10.00</td><td align=\"left\">Fair</td><td>CLR</td><td>40</td><td>20</td>\n",
      "<td></td><td></td><td>45%</td><td>35</td><td>NA</td><td>30.15</td><td>1020.2</td><td></td><td></td><td></td></tr><tr align=\"center\" bgcolor=\"#b0c4de\"><th rowspan=\"3\">D<br/>a<br/>t<br/>e</th><th rowspan=\"3\">Time<br/>(est)</th>\n",
      "<th rowspan=\"3\">Wind<br/>(mph)</th><th rowspan=\"3\">Vis.<br/>(mi.)</th><th rowspan=\"3\">Weather</th><th align=\"CENTER\" rowspan=\"3\">Sky Cond.</th>\n",
      "<th rowspan=\"2\">Air</th><th rowspan=\"2\">Dwpt</th><th>Max.</th><th>Min.</th><th rowspan=\"3\" width=\"65\">Relative<br/>Humidity</th><th rowspan=\"3\" width=\"80\">Wind<br/>Chill<br/>(°F)</th><th rowspan=\"3\" width=\"80\">Heat<br/>Index<br/>(°F)</th><th rowspan=\"2\">altimeter<br/>(in.)</th><th rowspan=\"2\">sea level<br/>(mb)</th>\n",
      "<th rowspan=\"2\">1 hr</th><th rowspan=\"2\">3 hr</th><th rowspan=\"2\">6 hr</th></tr>\n",
      "<tr align=\"center\" bgcolor=\"#b0c4de\"><th colspan=\"2\">6 hour</th></tr><tr align=\"center\" bgcolor=\"#b0c4de\">\n",
      "<th colspan=\"4\">Temperature (ºF)</th><th colspan=\"2\">Pressure</th><th colspan=\"3\">Precipitation (in.)</th></tr></table>\n"
     ]
    }
   ],
   "source": [
    "# print the 4rd table in the page\n",
    "print(knyc_soup.find_all('table')[3])"
   ]
  },
  {
   "cell_type": "code",
   "execution_count": 17,
   "metadata": {
    "slideshow": {
     "slide_type": "slide"
    }
   },
   "outputs": [
    {
     "data": {
      "text/html": [
       "<div>\n",
       "<style scoped>\n",
       "    .dataframe tbody tr th:only-of-type {\n",
       "        vertical-align: middle;\n",
       "    }\n",
       "\n",
       "    .dataframe tbody tr th {\n",
       "        vertical-align: top;\n",
       "    }\n",
       "\n",
       "    .dataframe thead th {\n",
       "        text-align: right;\n",
       "    }\n",
       "</style>\n",
       "<table border=\"1\" class=\"dataframe\">\n",
       "  <thead>\n",
       "    <tr style=\"text-align: right;\">\n",
       "      <th></th>\n",
       "      <th>0</th>\n",
       "      <th>1</th>\n",
       "      <th>2</th>\n",
       "      <th>3</th>\n",
       "      <th>4</th>\n",
       "      <th>5</th>\n",
       "      <th>6</th>\n",
       "      <th>7</th>\n",
       "      <th>8</th>\n",
       "      <th>9</th>\n",
       "      <th>10</th>\n",
       "      <th>11</th>\n",
       "      <th>12</th>\n",
       "      <th>13</th>\n",
       "      <th>14</th>\n",
       "      <th>15</th>\n",
       "      <th>16</th>\n",
       "      <th>17</th>\n",
       "    </tr>\n",
       "  </thead>\n",
       "  <tbody>\n",
       "    <tr>\n",
       "      <td>0</td>\n",
       "      <td>02</td>\n",
       "      <td>13:51</td>\n",
       "      <td>Vrbl 6</td>\n",
       "      <td>0.75</td>\n",
       "      <td>Light Snow Fog/Mist</td>\n",
       "      <td>BKN007 OVC012</td>\n",
       "      <td>33</td>\n",
       "      <td>31</td>\n",
       "      <td></td>\n",
       "      <td></td>\n",
       "      <td>92%</td>\n",
       "      <td>27</td>\n",
       "      <td>NA</td>\n",
       "      <td>29.51</td>\n",
       "      <td>998.5</td>\n",
       "      <td>0.07</td>\n",
       "      <td></td>\n",
       "      <td></td>\n",
       "    </tr>\n",
       "    <tr>\n",
       "      <td>1</td>\n",
       "      <td>02</td>\n",
       "      <td>12:51</td>\n",
       "      <td>Vrbl 5</td>\n",
       "      <td>0.75</td>\n",
       "      <td>Light Snow Fog/Mist</td>\n",
       "      <td>OVC006</td>\n",
       "      <td>33</td>\n",
       "      <td>31</td>\n",
       "      <td>36</td>\n",
       "      <td>33</td>\n",
       "      <td>92%</td>\n",
       "      <td>28</td>\n",
       "      <td>NA</td>\n",
       "      <td>29.51</td>\n",
       "      <td>998.6</td>\n",
       "      <td>0.07</td>\n",
       "      <td></td>\n",
       "      <td>0.13</td>\n",
       "    </tr>\n",
       "    <tr>\n",
       "      <td>2</td>\n",
       "      <td>02</td>\n",
       "      <td>11:51</td>\n",
       "      <td>Vrbl 7</td>\n",
       "      <td>1.75</td>\n",
       "      <td>Light Snow Fog/Mist</td>\n",
       "      <td>BKN007 OVC012</td>\n",
       "      <td>34</td>\n",
       "      <td>31</td>\n",
       "      <td></td>\n",
       "      <td></td>\n",
       "      <td>89%</td>\n",
       "      <td>28</td>\n",
       "      <td>NA</td>\n",
       "      <td>29.52</td>\n",
       "      <td>999.0</td>\n",
       "      <td>0.04</td>\n",
       "      <td></td>\n",
       "      <td></td>\n",
       "    </tr>\n",
       "    <tr>\n",
       "      <td>3</td>\n",
       "      <td>02</td>\n",
       "      <td>10:51</td>\n",
       "      <td>Vrbl 5</td>\n",
       "      <td>3.00</td>\n",
       "      <td>Light Rain Fog/Mist</td>\n",
       "      <td>OVC009</td>\n",
       "      <td>35</td>\n",
       "      <td>33</td>\n",
       "      <td></td>\n",
       "      <td></td>\n",
       "      <td>93%</td>\n",
       "      <td>31</td>\n",
       "      <td>NA</td>\n",
       "      <td>29.53</td>\n",
       "      <td>999.4</td>\n",
       "      <td></td>\n",
       "      <td></td>\n",
       "      <td></td>\n",
       "    </tr>\n",
       "    <tr>\n",
       "      <td>4</td>\n",
       "      <td>02</td>\n",
       "      <td>09:51</td>\n",
       "      <td>NE 10 G 21</td>\n",
       "      <td>7.00</td>\n",
       "      <td>Overcast</td>\n",
       "      <td>OVC009</td>\n",
       "      <td>35</td>\n",
       "      <td>33</td>\n",
       "      <td></td>\n",
       "      <td></td>\n",
       "      <td>93%</td>\n",
       "      <td>27</td>\n",
       "      <td>NA</td>\n",
       "      <td>29.54</td>\n",
       "      <td>999.6</td>\n",
       "      <td></td>\n",
       "      <td>0.02</td>\n",
       "      <td></td>\n",
       "    </tr>\n",
       "  </tbody>\n",
       "</table>\n",
       "</div>"
      ],
      "text/plain": [
       "    0      1           2     3                     4              5   6   7  \\\n",
       "0  02  13:51      Vrbl 6  0.75   Light Snow Fog/Mist  BKN007 OVC012  33  31   \n",
       "1  02  12:51      Vrbl 5  0.75   Light Snow Fog/Mist         OVC006  33  31   \n",
       "2  02  11:51      Vrbl 7  1.75   Light Snow Fog/Mist  BKN007 OVC012  34  31   \n",
       "3  02  10:51      Vrbl 5  3.00   Light Rain Fog/Mist         OVC009  35  33   \n",
       "4  02  09:51  NE 10 G 21  7.00              Overcast         OVC009  35  33   \n",
       "\n",
       "    8   9   10  11  12     13     14    15    16    17  \n",
       "0          92%  27  NA  29.51  998.5  0.07              \n",
       "1  36  33  92%  28  NA  29.51  998.6  0.07        0.13  \n",
       "2          89%  28  NA  29.52  999.0  0.04              \n",
       "3          93%  31  NA  29.53  999.4                    \n",
       "4          93%  27  NA  29.54  999.6        0.02        "
      ]
     },
     "execution_count": 17,
     "metadata": {},
     "output_type": "execute_result"
    }
   ],
   "source": [
    "# extract data from the 4th table in the page into a dataframe\n",
    "\n",
    "data_table = knyc_soup.find_all('table')[3]\n",
    "\n",
    "table_rows = data_table.find_all('tr') # get rows from table\n",
    "\n",
    "data = []\n",
    "for idx,tr in enumerate(table_rows):\n",
    "    if idx < 3 :                       # skip header rows\n",
    "        continue\n",
    "    td = tr.find_all('td')             # get table cells\n",
    "    row = [elem.text for elem in td]   # pull text from cells\n",
    "    data.append(row)                   # add to dataset\n",
    "    \n",
    "pd.DataFrame(data).head()"
   ]
  },
  {
   "cell_type": "markdown",
   "metadata": {
    "slideshow": {
     "slide_type": "slide"
    }
   },
   "source": [
    "#### central park weather history summary\n",
    "https://www.wunderground.com/history/daily/us/ny/new-york-city/KNYC/date/2018-12-3?cm_ven=localwx_history"
   ]
  },
  {
   "cell_type": "code",
   "execution_count": 18,
   "metadata": {
    "slideshow": {
     "slide_type": "fragment"
    }
   },
   "outputs": [],
   "source": [
    "wu_link = 'https://www.wunderground.com/history/daily/us/ny/new-york-city/KNYC/date/2018-12-3?cm_ven=localwx_history'"
   ]
  },
  {
   "cell_type": "code",
   "execution_count": 19,
   "metadata": {
    "slideshow": {
     "slide_type": "slide"
    }
   },
   "outputs": [
    {
     "data": {
      "text/plain": [
       "<Response [404]>"
      ]
     },
     "execution_count": 19,
     "metadata": {},
     "output_type": "execute_result"
    }
   ],
   "source": [
    "# get the page\n",
    "wu_page = requests.get(wu_link)\n",
    "wu_page"
   ]
  },
  {
   "cell_type": "code",
   "execution_count": 20,
   "metadata": {
    "slideshow": {
     "slide_type": "slide"
    }
   },
   "outputs": [],
   "source": [
    "wu_soup = BeautifulSoup(wu_page.content)"
   ]
  },
  {
   "cell_type": "code",
   "execution_count": 21,
   "metadata": {
    "slideshow": {
     "slide_type": "fragment"
    }
   },
   "outputs": [
    {
     "name": "stdout",
     "output_type": "stream",
     "text": [
      "<!DOCTYPE html>\n",
      "<html lang=\"en\">\n",
      " <head>\n",
      "  <meta charset=\"utf-8\"/>\n",
      "  <title>\n",
      "   Oops! There's been an error | Weather Underground\n",
      "  </title>\n",
      "  <base href=\"/\"/>\n",
      "  <meta content=\"width=device-width, initial-scale=1\" name=\"viewport\"/>\n",
      "  <meta content=\"IE=edge,chrome=1\" http-equiv=\"X-UA-Compatible\"/>\n",
      "  <link href=\"https://www.wunderground.com/static/favicon.png\" rel=\"shortcut icon\" type=\"image/png\"/>\n",
      "  <link href=\"https://www.wunderground.com/static/favicon.png\" rel=\"apple-touch-icon\"/>\n",
      "  <link href=\"/bundle-next/styles.70b207e6d3b5af6ea45e.css\" rel=\"stylesheet\"/>\n",
      "  <style ng-transition=\"app-root\">\n",
      "   {}  body,   p{font-size:.875rem;color:#1e2023}  :focus{outline:0!important}  a:link{color:#1088b0}  a:visited{color:#1088b0}  a:hover{color:#1088b0}  a:hover:not(.button){text-decoration:underline}  a:active{color:#1088b0}  a.button{color:#fff}  a.hook{text-decoration:underline}  a:focus,   button:focus{outline:0}  input[type=date],   input[type=datetime-local],   input[type=datetime],   inpu\n"
     ]
    }
   ],
   "source": [
    "print(wu_soup.prettify()[:1000])"
   ]
  },
  {
   "cell_type": "code",
   "execution_count": 22,
   "metadata": {
    "slideshow": {
     "slide_type": "fragment"
    }
   },
   "outputs": [
    {
     "data": {
      "text/plain": [
       "[]"
      ]
     },
     "execution_count": 22,
     "metadata": {},
     "output_type": "execute_result"
    }
   ],
   "source": [
    "# the table we want doesn't exist! culprit: javascript\n",
    "wu_soup.find_all('div',class_='tablesaw-sortable')"
   ]
  },
  {
   "cell_type": "code",
   "execution_count": 23,
   "metadata": {
    "slideshow": {
     "slide_type": "slide"
    }
   },
   "outputs": [
    {
     "ename": "NameError",
     "evalue": "name 'text' is not defined",
     "output_type": "error",
     "traceback": [
      "\u001b[0;31m---------------------------------------------------------------------------\u001b[0m",
      "\u001b[0;31mNameError\u001b[0m                                 Traceback (most recent call last)",
      "\u001b[0;32m<ipython-input-23-2f78d6cc5e49>\u001b[0m in \u001b[0;36m<module>\u001b[0;34m\u001b[0m\n\u001b[1;32m      4\u001b[0m \u001b[0;31m# clean up the whitespace\u001b[0m\u001b[0;34m\u001b[0m\u001b[0;34m\u001b[0m\u001b[0;34m\u001b[0m\u001b[0m\n\u001b[1;32m      5\u001b[0m \u001b[0;32mimport\u001b[0m \u001b[0mre\u001b[0m\u001b[0;34m\u001b[0m\u001b[0;34m\u001b[0m\u001b[0m\n\u001b[0;32m----> 6\u001b[0;31m \u001b[0mwu_text\u001b[0m \u001b[0;34m=\u001b[0m \u001b[0mre\u001b[0m\u001b[0;34m.\u001b[0m\u001b[0msub\u001b[0m\u001b[0;34m(\u001b[0m\u001b[0;34mr'\\n+'\u001b[0m\u001b[0;34m,\u001b[0m\u001b[0;34m'\\n'\u001b[0m\u001b[0;34m,\u001b[0m\u001b[0mtext\u001b[0m\u001b[0;34m.\u001b[0m\u001b[0mstrip\u001b[0m\u001b[0;34m(\u001b[0m\u001b[0;34m)\u001b[0m\u001b[0;34m)\u001b[0m\u001b[0;34m\u001b[0m\u001b[0;34m\u001b[0m\u001b[0m\n\u001b[0m\u001b[1;32m      7\u001b[0m \u001b[0mprint\u001b[0m\u001b[0;34m(\u001b[0m\u001b[0mtext\u001b[0m\u001b[0;34m[\u001b[0m\u001b[0;34m:\u001b[0m\u001b[0;36m1000\u001b[0m\u001b[0;34m]\u001b[0m\u001b[0;34m)\u001b[0m\u001b[0;34m\u001b[0m\u001b[0;34m\u001b[0m\u001b[0m\n",
      "\u001b[0;31mNameError\u001b[0m: name 'text' is not defined"
     ]
    }
   ],
   "source": [
    "# get the text from the page\n",
    "wu_text = wu_soup.get_text()\n",
    "\n",
    "# clean up the whitespace\n",
    "import re\n",
    "wu_text = re.sub(r'\\n+','\\n',text.strip())\n",
    "print(text[:1000])"
   ]
  },
  {
   "cell_type": "markdown",
   "metadata": {
    "slideshow": {
     "slide_type": "slide"
    }
   },
   "source": [
    "### Need to actually render page to process scripts!"
   ]
  },
  {
   "cell_type": "code",
   "execution_count": 32,
   "metadata": {
    "slideshow": {
     "slide_type": "fragment"
    }
   },
   "outputs": [],
   "source": [
    "# need to install chromedriver\n",
    "from selenium.webdriver.chrome.options import Options\n",
    "from selenium import webdriver\n",
    "\n",
    "chrome_options = Options()\n",
    "chrome_options.add_argument(\"--headless\")\n",
    "\n",
    "driver = webdriver.Chrome(options=chrome_options)"
   ]
  },
  {
   "cell_type": "code",
   "execution_count": 33,
   "metadata": {
    "slideshow": {
     "slide_type": "fragment"
    }
   },
   "outputs": [],
   "source": [
    "# this will actually render the page\n",
    "driver.get(wu_link)"
   ]
  },
  {
   "cell_type": "code",
   "execution_count": 47,
   "metadata": {
    "slideshow": {
     "slide_type": "fragment"
    }
   },
   "outputs": [],
   "source": [
    "# two ways to find the table we want\n",
    "wu_table = driver.find_element_by_class_name('city-history-observation')\n",
    "#wu_table = driver.find_element_by_id('history-observation-table')"
   ]
  },
  {
   "cell_type": "code",
   "execution_count": 48,
   "metadata": {
    "slideshow": {
     "slide_type": "slide"
    }
   },
   "outputs": [
    {
     "data": {
      "text/plain": [
       "'Daily Observations\\nTime Temperature Dew Point Humidity Wind Wind Speed Wind Gust Pressure Precip.\\n12:51 AM\\n55 F 52 F 89 %\\n0 mph 0 mph 29.4 in 0.0 in\\n1:51 AM\\n55 F 52 F 89 %\\n0 mph 0 mph 29.4 in 0.0 in\\n2:51 AM\\n55 F 53 F 93 %\\n0 mph 0 mph 29.4 in 0.0 in\\n3:38 AM\\n54 F 53 F 97 %\\n0 mph 0 mph 29.4 in 0.0 in\\n3:51 AM\\n54 F 53 F 97 %\\n0 mph 0 mph 29.4 in 0.0 in\\n4:51 AM\\n54 F 53 F 97 %\\n0 mph 0 mph 29.4 in 0.0 in\\n5:01 AM\\n54 F 53 F 97 %\\n0 mph 0 mph 29.4 in 0.0 in\\n5:28 AM\\n54 F 52 F 93 %\\n0 mph 0 mph 29.4 in 0.0 in\\n5:51 AM\\n54 F 51 F 90 %\\n0 mph 0 mph 29.4 in 0.0 in\\n6:51 AM\\n53 F 49 F 86 %\\n0 mph 0 mph 29.4 in 0.0 in\\n7:51 AM\\n54 F 46 F 75 %\\n0 mph 0 mph 29.5 in 0.0 in\\n8:51 AM\\n54 F 44 F 69 %\\n0 mph 0 mph 29.5 in 0.0 in\\n9:51 AM\\n54 F 41 F 62 %\\n0 mph 0 mph 29.5 in 0.0 in\\n10:51 AM\\n54 F 39 F 57 %\\n0 mph 0 mph 29.5 in 0.0 in\\n11:51 AM\\n52 F 37 F 57 %\\n0 mph 0 mph 29.5 in 0.0 in\\n12:51 PM\\n52 F 34 F 50 %\\n0 mph 0 mph 29.5 in 0.0 in\\n1:51 PM\\n53 F 33 F 47 %\\n0 mph 0 mph 29.5 in 0.0 in'"
      ]
     },
     "execution_count": 48,
     "metadata": {},
     "output_type": "execute_result"
    }
   ],
   "source": [
    "# text in the table\n",
    "wu_table.text"
   ]
  },
  {
   "cell_type": "code",
   "execution_count": 49,
   "metadata": {
    "slideshow": {
     "slide_type": "slide"
    }
   },
   "outputs": [
    {
     "data": {
      "text/html": [
       "<div>\n",
       "<style scoped>\n",
       "    .dataframe tbody tr th:only-of-type {\n",
       "        vertical-align: middle;\n",
       "    }\n",
       "\n",
       "    .dataframe tbody tr th {\n",
       "        vertical-align: top;\n",
       "    }\n",
       "\n",
       "    .dataframe thead th {\n",
       "        text-align: right;\n",
       "    }\n",
       "</style>\n",
       "<table border=\"1\" class=\"dataframe\">\n",
       "  <thead>\n",
       "    <tr style=\"text-align: right;\">\n",
       "      <th></th>\n",
       "      <th>0</th>\n",
       "      <th>1</th>\n",
       "      <th>2</th>\n",
       "      <th>3</th>\n",
       "      <th>4</th>\n",
       "      <th>5</th>\n",
       "      <th>6</th>\n",
       "      <th>7</th>\n",
       "      <th>8</th>\n",
       "      <th>9</th>\n",
       "      <th>10</th>\n",
       "    </tr>\n",
       "  </thead>\n",
       "  <tbody>\n",
       "    <tr>\n",
       "      <th>0</th>\n",
       "      <td>None</td>\n",
       "      <td>None</td>\n",
       "      <td>None</td>\n",
       "      <td>None</td>\n",
       "      <td>None</td>\n",
       "      <td>None</td>\n",
       "      <td>None</td>\n",
       "      <td>None</td>\n",
       "      <td>None</td>\n",
       "      <td>None</td>\n",
       "      <td>None</td>\n",
       "    </tr>\n",
       "    <tr>\n",
       "      <th>1</th>\n",
       "      <td>12:51 AM</td>\n",
       "      <td>55 F</td>\n",
       "      <td>52 F</td>\n",
       "      <td>89 %</td>\n",
       "      <td></td>\n",
       "      <td>0 mph</td>\n",
       "      <td>0 mph</td>\n",
       "      <td>29.4 in</td>\n",
       "      <td>0.0 in</td>\n",
       "      <td></td>\n",
       "      <td></td>\n",
       "    </tr>\n",
       "    <tr>\n",
       "      <th>2</th>\n",
       "      <td>1:51 AM</td>\n",
       "      <td>55 F</td>\n",
       "      <td>52 F</td>\n",
       "      <td>89 %</td>\n",
       "      <td></td>\n",
       "      <td>0 mph</td>\n",
       "      <td>0 mph</td>\n",
       "      <td>29.4 in</td>\n",
       "      <td>0.0 in</td>\n",
       "      <td></td>\n",
       "      <td></td>\n",
       "    </tr>\n",
       "    <tr>\n",
       "      <th>3</th>\n",
       "      <td>2:51 AM</td>\n",
       "      <td>55 F</td>\n",
       "      <td>53 F</td>\n",
       "      <td>93 %</td>\n",
       "      <td></td>\n",
       "      <td>0 mph</td>\n",
       "      <td>0 mph</td>\n",
       "      <td>29.4 in</td>\n",
       "      <td>0.0 in</td>\n",
       "      <td></td>\n",
       "      <td></td>\n",
       "    </tr>\n",
       "    <tr>\n",
       "      <th>4</th>\n",
       "      <td>3:38 AM</td>\n",
       "      <td>54 F</td>\n",
       "      <td>53 F</td>\n",
       "      <td>97 %</td>\n",
       "      <td></td>\n",
       "      <td>0 mph</td>\n",
       "      <td>0 mph</td>\n",
       "      <td>29.4 in</td>\n",
       "      <td>0.0 in</td>\n",
       "      <td></td>\n",
       "      <td></td>\n",
       "    </tr>\n",
       "  </tbody>\n",
       "</table>\n",
       "</div>"
      ],
      "text/plain": [
       "         0     1     2     3     4      5      6        7       8     9     10\n",
       "0      None  None  None  None  None   None   None     None    None  None  None\n",
       "1  12:51 AM  55 F  52 F  89 %        0 mph  0 mph  29.4 in  0.0 in            \n",
       "2   1:51 AM  55 F  52 F  89 %        0 mph  0 mph  29.4 in  0.0 in            \n",
       "3   2:51 AM  55 F  53 F  93 %        0 mph  0 mph  29.4 in  0.0 in            \n",
       "4   3:38 AM  54 F  53 F  97 %        0 mph  0 mph  29.4 in  0.0 in            "
      ]
     },
     "execution_count": 49,
     "metadata": {},
     "output_type": "execute_result"
    }
   ],
   "source": [
    "# extracting text into a datafram\n",
    "wu_data = []\n",
    "for tr in wu_table.find_elements_by_css_selector('tr'):\n",
    "    tmp_row = []\n",
    "    for td in tr.find_elements_by_css_selector('td'):\n",
    "        tmp_row.append(td.text.strip())\n",
    "    wu_data.append(tmp_row)\n",
    "df_wu = pd.DataFrame(wu_data)\n",
    "df_wu.head()"
   ]
  },
  {
   "cell_type": "code",
   "execution_count": 52,
   "metadata": {
    "slideshow": {
     "slide_type": "slide"
    }
   },
   "outputs": [
    {
     "data": {
      "text/plain": [
       "True"
      ]
     },
     "execution_count": 52,
     "metadata": {},
     "output_type": "execute_result"
    }
   ],
   "source": [
    "# visualize the rendered table, still missing some stuff, need to debug\n",
    "wu_table.screenshot('./images/test1.png')"
   ]
  },
  {
   "cell_type": "markdown",
   "metadata": {
    "slideshow": {
     "slide_type": "fragment"
    }
   },
   "source": [
    "<img src='./images/test2.png'>"
   ]
  },
  {
   "cell_type": "code",
   "execution_count": null,
   "metadata": {},
   "outputs": [],
   "source": []
  }
 ],
 "metadata": {
  "celltoolbar": "Slideshow",
  "kernelspec": {
   "display_name": "eods-f19",
   "language": "python",
   "name": "eods-f19"
  },
  "language_info": {
   "codemirror_mode": {
    "name": "ipython",
    "version": 3
   },
   "file_extension": ".py",
   "mimetype": "text/x-python",
   "name": "python",
   "nbconvert_exporter": "python",
   "pygments_lexer": "ipython3",
   "version": "3.7.4"
  }
 },
 "nbformat": 4,
 "nbformat_minor": 2
}
