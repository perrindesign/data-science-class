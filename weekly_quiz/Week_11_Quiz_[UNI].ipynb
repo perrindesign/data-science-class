{
 "cells": [
  {
   "cell_type": "markdown",
   "metadata": {},
   "source": [
    "# Week 11 Quiz\n",
    "\n",
    "## [Name] - [UNI]\n",
    "\n",
    "### Due Sat. Nov. 30, 11:59pm"
   ]
  },
  {
   "cell_type": "markdown",
   "metadata": {},
   "source": [
    "In this quiz, we're going to gather some financial data from an external source perform a few time series tranformations with visualizations."
   ]
  },
  {
   "cell_type": "markdown",
   "metadata": {},
   "source": [
    "### Setup Environment"
   ]
  },
  {
   "cell_type": "code",
   "execution_count": null,
   "metadata": {},
   "outputs": [],
   "source": [
    "import numpy as np\n",
    "import pandas as pd\n",
    "import matplotlib.pyplot as plt\n",
    "\n",
    "%matplotlib inline"
   ]
  },
  {
   "cell_type": "markdown",
   "metadata": {},
   "source": [
    "## Gather Data"
   ]
  },
  {
   "cell_type": "code",
   "execution_count": null,
   "metadata": {},
   "outputs": [],
   "source": [
    "# The pandas_datareader package provides access to many different data api's \n",
    "#   includeing financial sources such as yahoo and quandl as well as economic data from the World Bank.\n",
    "# For more info see: https://pandas-datareader.readthedocs.io/en/latest/remote_data.html\n",
    "# \n",
    "# Prior to importing the package we need to install it using conda.\n",
    "# At the command line, run:\n",
    "#   conda install -n eods-f19 pandas-datareader\n",
    "#\n",
    "# Note that name of the package at install is 'pandas-datareader' with a hyphen,\n",
    "#   while the package name at import is 'pandas_datareader' with an underscore.\n",
    "\n",
    "# From pandas_datareader import the data module\n",
    "\n",
    "\n",
    "# We're going to load daily stock price information for Tesla which has the ticker symbol 'TSLA'.\n",
    "# We only want to look at stock prices for the year 2019.\n",
    "# We'll do this using the data.DataReader object.\n",
    "# The first positional argument to data.DataReader is the name of the data we're looking for.\n",
    "#    In this case it is the string 'TSLA'.\n",
    "# We also need to specify:\n",
    "#    start='2019',\n",
    "#    end='2020',\n",
    "#    data_source='yahoo'\n",
    "# The datastructure returned by DataReader is a dataframe.\n",
    "# Store this result as df\n",
    "\n",
    "\n",
    "# Print the info for df and note the range of the index\n"
   ]
  },
  {
   "cell_type": "markdown",
   "metadata": {},
   "source": [
    "## Plot Closing Price"
   ]
  },
  {
   "cell_type": "code",
   "execution_count": null,
   "metadata": {},
   "outputs": [],
   "source": [
    "# The Closing price of a stock is the price of that stock at the close of the trading day. \n",
    "# The Adjusted Closing price factors in things such as dividends and stock splits.\n",
    "# For this period, these prices are the same, so we'll just use Close.\n",
    "\n",
    "# Plot the Close column in a figure of size (12,6)\n"
   ]
  },
  {
   "cell_type": "markdown",
   "metadata": {},
   "source": [
    "## Calculate and Plot Percentage Change of Closing"
   ]
  },
  {
   "cell_type": "code",
   "execution_count": null,
   "metadata": {},
   "outputs": [],
   "source": [
    "# There appear to be some dramatic shifts in price in this time period.\n",
    "# Calculate the percentage change and store in df as a new column Close_pctchange\n",
    "\n",
    "# Plot Close_pctchange in a figure of size (12,6)\n"
   ]
  },
  {
   "cell_type": "markdown",
   "metadata": {},
   "source": [
    "## Zoom In On October"
   ]
  },
  {
   "cell_type": "code",
   "execution_count": null,
   "metadata": {},
   "outputs": [],
   "source": [
    "# There should be a big positive spike toward the end of October.\n",
    "# Let's zoom in on this range.\n",
    "\n",
    "# Create a new plot Close_pctchange of only the data points in Oct (Hint: use loc and 2019-10)\n"
   ]
  },
  {
   "cell_type": "code",
   "execution_count": null,
   "metadata": {},
   "outputs": [],
   "source": [
    "# We can use the idxmax() function to print the index corresponding to the max value in a series.\n",
    "# Use idxmax to print the date corresponding to the maximum Close_pctchange.\n",
    "# This corresponds to the date after which Telsa made a very large profit announcement.\n"
   ]
  },
  {
   "cell_type": "markdown",
   "metadata": {},
   "source": [
    "## Summarize Data Using Rolling Window"
   ]
  },
  {
   "cell_type": "code",
   "execution_count": null,
   "metadata": {},
   "outputs": [],
   "source": [
    "# Here we'll create a plot that smooths the Close data over time\n",
    "#    as well as showing volatility, using a rolling window.\n",
    "\n",
    "# First create a rolling window object on df.Close of size 7, center=True.\n",
    "# Store in rolling\n",
    "\n",
    "\n",
    "# Create fig,ax using subplots with figure size of (12,6)\n",
    "\n",
    "\n",
    "# On ax, plot the rolling mean.\n",
    "#   Set the color to blue with c='b'\n",
    "\n",
    "\n",
    "# On ax, plot the rolling mean + 2 standard deviations. \n",
    "#   Set the color to red with c='r'\n",
    "#   And the linestyle to dots with ls=':'\n",
    "\n",
    "\n",
    "# On ax, plot the rolling mean - 2 standard deviations. \n",
    "#   Set the color to red with c='r'\n",
    "#   And the linestyle to dots with ls=':'\n"
   ]
  }
 ],
 "metadata": {
  "kernelspec": {
   "display_name": "eods-f19",
   "language": "python",
   "name": "eods-f19"
  },
  "language_info": {
   "codemirror_mode": {
    "name": "ipython",
    "version": 3
   },
   "file_extension": ".py",
   "mimetype": "text/x-python",
   "name": "python",
   "nbconvert_exporter": "python",
   "pygments_lexer": "ipython3",
   "version": "3.7.4"
  }
 },
 "nbformat": 4,
 "nbformat_minor": 2
}
