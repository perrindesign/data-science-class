{
 "cells": [
  {
   "cell_type": "markdown",
   "metadata": {},
   "source": [
    "# Week 9 Quiz\n",
    "\n",
    "## [Name] - [UNI]\n",
    "\n",
    "### Due Sat. Nov. 16, 11:59pm"
   ]
  },
  {
   "cell_type": "markdown",
   "metadata": {},
   "source": [
    "### Load Standard Libraries"
   ]
  },
  {
   "cell_type": "code",
   "execution_count": null,
   "metadata": {},
   "outputs": [],
   "source": [
    "# Import numpy, pandas, matplotlib.pyplot and seaborn\n",
    "\n",
    "\n",
    "# Set matplotlib to display inline\n"
   ]
  },
  {
   "cell_type": "markdown",
   "metadata": {},
   "source": [
    "### Load the Dataset"
   ]
  },
  {
   "cell_type": "code",
   "execution_count": null,
   "metadata": {},
   "outputs": [],
   "source": [
    "# Import the datasets submodule from sklearn.\n",
    "\n",
    "\n",
    "# Load the breast cancer dataset using the load_breast_cancer function.\n",
    "# Store in the variable 'cancer'.\n",
    "\n",
    "\n",
    "# Create a new dataframe df with values from cancer.data and with columns named using cancer.feature_names.\n",
    "\n",
    "\n",
    "# Print information about the dataframe using the info function.\n"
   ]
  },
  {
   "cell_type": "code",
   "execution_count": null,
   "metadata": {},
   "outputs": [],
   "source": [
    "# call print(cancer.DESCR) to get a desciption of this dataset.\n"
   ]
  },
  {
   "cell_type": "markdown",
   "metadata": {},
   "source": [
    "### Plot the First 2 Features From the Dataset"
   ]
  },
  {
   "cell_type": "code",
   "execution_count": null,
   "metadata": {},
   "outputs": [],
   "source": [
    "# Using seaborn, create a scatterplot with 'mean radius' on the x-axis and 'mean texture' on the y-axis.\n",
    "# Color the points by their class assignment by setting hue as cancer.target.\n",
    "\n",
    "\n",
    "# Using matplotlib.pyplot set the title to 'First Two Features'.\n"
   ]
  },
  {
   "cell_type": "markdown",
   "metadata": {},
   "source": [
    "### Reduce Data to 2 Dimensions Using PCA"
   ]
  },
  {
   "cell_type": "code",
   "execution_count": null,
   "metadata": {},
   "outputs": [],
   "source": [
    "# Import PCA from sklearn.\n",
    "\n",
    "\n",
    "# Create a 2D transformation of the dataframe df using PCA and fit_transform and store in X_pca.\n",
    "\n",
    "\n",
    "# Print the shape of X_pca.\n",
    "# Note: it should have 2 columns.\n"
   ]
  },
  {
   "cell_type": "markdown",
   "metadata": {},
   "source": [
    "### Plot the Reduced Representation"
   ]
  },
  {
   "cell_type": "code",
   "execution_count": null,
   "metadata": {},
   "outputs": [],
   "source": [
    "# Using seaborn, create a scatterplot with the first column of X_pca on the x-axis\n",
    "#    and the second column pf X_pca on the y-axis.\n",
    "# Color the points by their class assignment by setting hue as cancer.target.\n",
    "\n",
    "\n",
    "# Using matplotlib.pyplot set the title to 'PCA'.\n"
   ]
  },
  {
   "cell_type": "markdown",
   "metadata": {},
   "source": [
    "### Calculate Feature Ranges"
   ]
  },
  {
   "cell_type": "code",
   "execution_count": null,
   "metadata": {},
   "outputs": [],
   "source": [
    "# The scale of features in this dataset varies quite a bit, affecting PCA performance.\n",
    "# To get a sense of the difference, print the range of each feature by subracting df.min() from df.max().\n"
   ]
  },
  {
   "cell_type": "markdown",
   "metadata": {},
   "source": [
    "### Scale the Data"
   ]
  },
  {
   "cell_type": "code",
   "execution_count": null,
   "metadata": {},
   "outputs": [],
   "source": [
    "#Import StandardScaler from sklearn\n",
    "\n",
    "\n",
    "# Using StandardScaler with default settings create a new matrix X_scaled that is a scaled version of df.\n",
    "\n",
    "\n",
    "# Print the shape of X_scaled\n"
   ]
  },
  {
   "cell_type": "markdown",
   "metadata": {},
   "source": [
    "### Reduce Scaled Data to 2 Dimensions Using PCA"
   ]
  },
  {
   "cell_type": "code",
   "execution_count": null,
   "metadata": {},
   "outputs": [],
   "source": [
    "# Reduce X_scaled to 2-D using PCA and fit_transform and store in X_scaled_pca\n",
    "\n",
    "# Print the shape of X_scaled_pca\n"
   ]
  },
  {
   "cell_type": "markdown",
   "metadata": {},
   "source": [
    "### Plot Reduced Representation of Scaled Data"
   ]
  },
  {
   "cell_type": "code",
   "execution_count": null,
   "metadata": {},
   "outputs": [],
   "source": [
    "# Using seaborn, create a scatterplot with the first column of X_scaled_pca on the x-axis\n",
    "#    and the second column pf X_scaled_pca on the y-axis.\n",
    "# Color the points by their class assignment by setting hue as cancer.target.\n",
    "\n",
    "\n",
    "# Using matplotlib.pyplot set the title to 'Scaled PCA'.\n"
   ]
  }
 ],
 "metadata": {
  "kernelspec": {
   "display_name": "eods-f19",
   "language": "python",
   "name": "eods-f19"
  },
  "language_info": {
   "codemirror_mode": {
    "name": "ipython",
    "version": 3
   },
   "file_extension": ".py",
   "mimetype": "text/x-python",
   "name": "python",
   "nbconvert_exporter": "python",
   "pygments_lexer": "ipython3",
   "version": "3.7.4"
  }
 },
 "nbformat": 4,
 "nbformat_minor": 2
}
