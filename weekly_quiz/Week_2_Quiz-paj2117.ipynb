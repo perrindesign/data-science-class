{
 "cells": [
  {
   "cell_type": "markdown",
   "metadata": {},
   "source": [
    "# Week 2 Quiz\n",
    "\n",
    "## Perrin Anto - paj2117"
   ]
  },
  {
   "cell_type": "code",
   "execution_count": 1,
   "metadata": {},
   "outputs": [],
   "source": [
    "# initialize with import pandas as pd\n",
    "\n",
    "import pandas as pd\n",
    "\n",
    "\n",
    "# set plots to print in notebook: %matplotlib inline\n",
    "\n",
    "%matplotlib inline"
   ]
  },
  {
   "cell_type": "code",
   "execution_count": 2,
   "metadata": {},
   "outputs": [],
   "source": [
    "# use pandas to read in 'country_electricity_by_region.csv' with index_col = 'country_code' using .read_csv()\n",
    "\n",
    "df = pd.read_csv('../data/country_electricity_by_region.csv', index_col = 'country_code')"
   ]
  },
  {
   "cell_type": "code",
   "execution_count": 3,
   "metadata": {},
   "outputs": [
    {
     "name": "stdout",
     "output_type": "stream",
     "text": [
      "<class 'pandas.core.frame.DataFrame'>\n",
      "Index: 217 entries, ABW to ZWE\n",
      "Data columns (total 14 columns):\n",
      "short_name                             217 non-null object\n",
      "region                                 217 non-null object\n",
      "income_group                           217 non-null object\n",
      "access_to_electricity                  217 non-null float64\n",
      "gdp                                    193 non-null float64\n",
      "population_density                     215 non-null float64\n",
      "population_total                       216 non-null float64\n",
      "unemployment                           113 non-null float64\n",
      "region_europe                          217 non-null int64\n",
      "region_latin_america_and_caribbean     217 non-null int64\n",
      "region_middle_east_and_north_africa    217 non-null int64\n",
      "region_north_america                   217 non-null int64\n",
      "region_south_asia                      217 non-null int64\n",
      "region_subsaharan_africa               217 non-null int64\n",
      "dtypes: float64(5), int64(6), object(3)\n",
      "memory usage: 25.4+ KB\n"
     ]
    }
   ],
   "source": [
    "# print out dataframe info using .info()\n",
    "\n",
    "df.info()"
   ]
  },
  {
   "cell_type": "code",
   "execution_count": 4,
   "metadata": {},
   "outputs": [
    {
     "data": {
      "text/plain": [
       "short_name                             United States\n",
       "region                                 North America\n",
       "income_group                             High income\n",
       "access_to_electricity                            100\n",
       "gdp                                      1.61775e+13\n",
       "population_density                           34.8255\n",
       "population_total                         3.18563e+08\n",
       "unemployment                                    6.17\n",
       "region_europe                                      0\n",
       "region_latin_america_and_caribbean                 0\n",
       "region_middle_east_and_north_africa                0\n",
       "region_north_america                               1\n",
       "region_south_asia                                  0\n",
       "region_subsaharan_africa                           0\n",
       "Name: USA, dtype: object"
      ]
     },
     "execution_count": 4,
     "metadata": {},
     "output_type": "execute_result"
    }
   ],
   "source": [
    "# print out the row with index label 'USA' using .loc[]\n",
    "\n",
    "df.loc['USA']"
   ]
  },
  {
   "cell_type": "code",
   "execution_count": 5,
   "metadata": {},
   "outputs": [
    {
     "data": {
      "text/plain": [
       "country_code\n",
       "ABW     Latin America & Caribbean\n",
       "AFG                    South Asia\n",
       "AGO            Sub-Saharan Africa\n",
       "ALB         Europe & Central Asia\n",
       "AND         Europe & Central Asia\n",
       "                  ...            \n",
       "XKX         Europe & Central Asia\n",
       "YEM    Middle East & North Africa\n",
       "ZAF            Sub-Saharan Africa\n",
       "ZMB            Sub-Saharan Africa\n",
       "ZWE            Sub-Saharan Africa\n",
       "Name: region, Length: 217, dtype: object"
      ]
     },
     "execution_count": 5,
     "metadata": {},
     "output_type": "execute_result"
    }
   ],
   "source": [
    "# print out the column with label 'region' using .loc[]\n",
    "\n",
    "df.loc[:,'region']"
   ]
  },
  {
   "cell_type": "code",
   "execution_count": 6,
   "metadata": {},
   "outputs": [
    {
     "data": {
      "text/plain": [
       "country_code\n",
       "SWE    Europe & Central Asia\n",
       "CAN            North America\n",
       "Name: region, dtype: object"
      ]
     },
     "execution_count": 6,
     "metadata": {},
     "output_type": "execute_result"
    }
   ],
   "source": [
    "# print out the rows with label 'SWE' and 'CAN' and column with label 'region' using .loc[]\n",
    "\n",
    "df.loc[['SWE','CAN'],'region']"
   ]
  },
  {
   "cell_type": "code",
   "execution_count": 7,
   "metadata": {},
   "outputs": [
    {
     "data": {
      "text/html": [
       "<div>\n",
       "<style scoped>\n",
       "    .dataframe tbody tr th:only-of-type {\n",
       "        vertical-align: middle;\n",
       "    }\n",
       "\n",
       "    .dataframe tbody tr th {\n",
       "        vertical-align: top;\n",
       "    }\n",
       "\n",
       "    .dataframe thead th {\n",
       "        text-align: right;\n",
       "    }\n",
       "</style>\n",
       "<table border=\"1\" class=\"dataframe\">\n",
       "  <thead>\n",
       "    <tr style=\"text-align: right;\">\n",
       "      <th></th>\n",
       "      <th>short_name</th>\n",
       "      <th>region</th>\n",
       "      <th>income_group</th>\n",
       "    </tr>\n",
       "    <tr>\n",
       "      <th>country_code</th>\n",
       "      <th></th>\n",
       "      <th></th>\n",
       "      <th></th>\n",
       "    </tr>\n",
       "  </thead>\n",
       "  <tbody>\n",
       "    <tr>\n",
       "      <td>ABW</td>\n",
       "      <td>Aruba</td>\n",
       "      <td>Latin America &amp; Caribbean</td>\n",
       "      <td>High income</td>\n",
       "    </tr>\n",
       "    <tr>\n",
       "      <td>AFG</td>\n",
       "      <td>Afghanistan</td>\n",
       "      <td>South Asia</td>\n",
       "      <td>Low income</td>\n",
       "    </tr>\n",
       "    <tr>\n",
       "      <td>AGO</td>\n",
       "      <td>Angola</td>\n",
       "      <td>Sub-Saharan Africa</td>\n",
       "      <td>Lower middle income</td>\n",
       "    </tr>\n",
       "    <tr>\n",
       "      <td>ALB</td>\n",
       "      <td>Albania</td>\n",
       "      <td>Europe &amp; Central Asia</td>\n",
       "      <td>Upper middle income</td>\n",
       "    </tr>\n",
       "    <tr>\n",
       "      <td>AND</td>\n",
       "      <td>Andorra</td>\n",
       "      <td>Europe &amp; Central Asia</td>\n",
       "      <td>High income</td>\n",
       "    </tr>\n",
       "  </tbody>\n",
       "</table>\n",
       "</div>"
      ],
      "text/plain": [
       "               short_name                     region         income_group\n",
       "country_code                                                             \n",
       "ABW                 Aruba  Latin America & Caribbean          High income\n",
       "AFG           Afghanistan                 South Asia           Low income\n",
       "AGO                Angola         Sub-Saharan Africa  Lower middle income\n",
       "ALB               Albania      Europe & Central Asia  Upper middle income\n",
       "AND               Andorra      Europe & Central Asia          High income"
      ]
     },
     "execution_count": 7,
     "metadata": {},
     "output_type": "execute_result"
    }
   ],
   "source": [
    "# print out the first 5 rows and first 3 columns using iloc[]\n",
    "\n",
    "df.iloc[:5,:3]"
   ]
  },
  {
   "cell_type": "code",
   "execution_count": 8,
   "metadata": {},
   "outputs": [
    {
     "data": {
      "text/plain": [
       "country_code\n",
       "XKX    6.565321e+09\n",
       "YEM    2.890029e+10\n",
       "ZAF    4.130233e+11\n",
       "ZMB    2.531884e+10\n",
       "ZWE    1.437213e+10\n",
       "Name: gdp, dtype: float64"
      ]
     },
     "execution_count": 8,
     "metadata": {},
     "output_type": "execute_result"
    }
   ],
   "source": [
    "# print out the last 5 rows of the 'gdp' column using .iloc[] and .loc[]\n",
    "\n",
    "df.iloc[-5:].loc[:,'gdp']"
   ]
  },
  {
   "cell_type": "code",
   "execution_count": 9,
   "metadata": {},
   "outputs": [
    {
     "data": {
      "text/html": [
       "<div>\n",
       "<style scoped>\n",
       "    .dataframe tbody tr th:only-of-type {\n",
       "        vertical-align: middle;\n",
       "    }\n",
       "\n",
       "    .dataframe tbody tr th {\n",
       "        vertical-align: top;\n",
       "    }\n",
       "\n",
       "    .dataframe thead th {\n",
       "        text-align: right;\n",
       "    }\n",
       "</style>\n",
       "<table border=\"1\" class=\"dataframe\">\n",
       "  <thead>\n",
       "    <tr style=\"text-align: right;\">\n",
       "      <th></th>\n",
       "      <th>gdp</th>\n",
       "      <th>unemployment</th>\n",
       "    </tr>\n",
       "  </thead>\n",
       "  <tbody>\n",
       "    <tr>\n",
       "      <td>count</td>\n",
       "      <td>5.100000e+01</td>\n",
       "      <td>48.000000</td>\n",
       "    </tr>\n",
       "    <tr>\n",
       "      <td>mean</td>\n",
       "      <td>4.307250e+11</td>\n",
       "      <td>11.044625</td>\n",
       "    </tr>\n",
       "    <tr>\n",
       "      <td>std</td>\n",
       "      <td>7.865990e+11</td>\n",
       "      <td>7.444054</td>\n",
       "    </tr>\n",
       "    <tr>\n",
       "      <td>min</td>\n",
       "      <td>2.287264e+09</td>\n",
       "      <td>0.492000</td>\n",
       "    </tr>\n",
       "    <tr>\n",
       "      <td>25%</td>\n",
       "      <td>2.028514e+10</td>\n",
       "      <td>6.045000</td>\n",
       "    </tr>\n",
       "    <tr>\n",
       "      <td>50%</td>\n",
       "      <td>6.314945e+10</td>\n",
       "      <td>8.825000</td>\n",
       "    </tr>\n",
       "    <tr>\n",
       "      <td>75%</td>\n",
       "      <td>4.324500e+11</td>\n",
       "      <td>13.357500</td>\n",
       "    </tr>\n",
       "    <tr>\n",
       "      <td>max</td>\n",
       "      <td>3.634080e+12</td>\n",
       "      <td>35.150002</td>\n",
       "    </tr>\n",
       "  </tbody>\n",
       "</table>\n",
       "</div>"
      ],
      "text/plain": [
       "                gdp  unemployment\n",
       "count  5.100000e+01     48.000000\n",
       "mean   4.307250e+11     11.044625\n",
       "std    7.865990e+11      7.444054\n",
       "min    2.287264e+09      0.492000\n",
       "25%    2.028514e+10      6.045000\n",
       "50%    6.314945e+10      8.825000\n",
       "75%    4.324500e+11     13.357500\n",
       "max    3.634080e+12     35.150002"
      ]
     },
     "execution_count": 9,
     "metadata": {},
     "output_type": "execute_result"
    }
   ],
   "source": [
    "# print out the summary stats for columns 'gdp' and 'unemployment' \n",
    "#    for all rows with region == 'Europe & Central Asia'\n",
    "#    using .loc[] and describe()\n",
    "\n",
    "df.loc[df.region == 'Europe & Central Asia', ['gdp','unemployment']].describe()"
   ]
  },
  {
   "cell_type": "code",
   "execution_count": 10,
   "metadata": {},
   "outputs": [
    {
     "data": {
      "image/png": "[encoded data removed]",
      "text/plain": [
       "<Figure size 432x288 with 1 Axes>"
      ]
     },
     "metadata": {
      "needs_background": "light"
     },
     "output_type": "display_data"
    }
   ],
   "source": [
    "# create a bar chart of counts by 'region' using .value_counts() and .plot.bar()\n",
    "\n",
    "df.loc[:,'region'].value_counts().plot.bar();"
   ]
  },
  {
   "cell_type": "code",
   "execution_count": 11,
   "metadata": {},
   "outputs": [
    {
     "data": {
      "image/png": "[encoded data removed]",
      "text/plain": [
       "<Figure size 432x288 with 1 Axes>"
      ]
     },
     "metadata": {
      "needs_background": "light"
     },
     "output_type": "display_data"
    }
   ],
   "source": [
    "# print out a distribution plot of 'access_to_electricity' using plot.hist()\n",
    "\n",
    "df.access_to_electricity.plot.hist();"
   ]
  },
  {
   "cell_type": "code",
   "execution_count": 12,
   "metadata": {},
   "outputs": [],
   "source": [
    "# when completed, \n",
    "#   make sure you've replaced [Name] and [UNI] in the first cell and filename\n",
    "#   use Print Preview, Print-> Save to pdf \n",
    "#   and post pdf to GradeScope"
   ]
  }
 ],
 "metadata": {
  "kernelspec": {
   "display_name": "eods-f19",
   "language": "python",
   "name": "eods-f19"
  },
  "language_info": {
   "codemirror_mode": {
    "name": "ipython",
    "version": 3
   },
   "file_extension": ".py",
   "mimetype": "text/x-python",
   "name": "python",
   "nbconvert_exporter": "python",
   "pygments_lexer": "ipython3",
   "version": "3.7.4"
  }
 },
 "nbformat": 4,
 "nbformat_minor": 2
}
