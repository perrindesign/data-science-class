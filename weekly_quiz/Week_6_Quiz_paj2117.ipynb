{
 "cells": [
  {
   "cell_type": "markdown",
   "metadata": {},
   "source": [
    "# Week 6 Quiz\n",
    "\n",
    "## Perrin Anto - paj2117"
   ]
  },
  {
   "cell_type": "code",
   "execution_count": 1,
   "metadata": {},
   "outputs": [],
   "source": [
    "import numpy as np\n",
    "from sklearn.model_selection import train_test_split\n",
    "from sklearn.datasets import load_breast_cancer\n",
    "from sklearn.dummy import DummyClassifier\n",
    "from sklearn.linear_model import LogisticRegression\n",
    "from sklearn.model_selection import cross_val_score\n",
    "\n",
    "# to supress warnings about a change in the LogisticRegression solver\n",
    "import warnings\n",
    "warnings.simplefilter(action='ignore', category=FutureWarning)"
   ]
  },
  {
   "cell_type": "code",
   "execution_count": 2,
   "metadata": {},
   "outputs": [],
   "source": [
    "# Load the sample breast_cancer dataset from Scikit-Learn\n",
    "#   returning just the X features matrix and y label vector.\n",
    "#   The target here is a binary classification task.\n",
    "#   For more information, see https://scikit-learn.org/stable/datasets/index.html#breast-cancer-dataset\n",
    "X,y = load_breast_cancer(return_X_y=True)"
   ]
  },
  {
   "cell_type": "code",
   "execution_count": 3,
   "metadata": {},
   "outputs": [],
   "source": [
    "# Split X and y into X_train,X_test,y_train,y_test \n",
    "#   using train_test_split, stratify using y.\n",
    "X_train,X_test,y_train,y_test = train_test_split(X,y,test_size=.1,stratify=y,random_state=123)"
   ]
  },
  {
   "cell_type": "code",
   "execution_count": 8,
   "metadata": {},
   "outputs": [
    {
     "name": "stdout",
     "output_type": "stream",
     "text": [
      "mean cv accuracy: 0.57\n"
     ]
    }
   ],
   "source": [
    "# Get a baseline, mean 5-fold cross-validation accuracy score \n",
    "#   for a DummyClassifier with default parameter settings \n",
    "#   using X_train,y_train.\n",
    "scores = cross_val_score(DummyClassifier(),X_train,y_train,cv=5)\n",
    "print(f'mean cv accuracy: {np.mean(scores):0.2f}')"
   ]
  },
  {
   "cell_type": "code",
   "execution_count": 10,
   "metadata": {},
   "outputs": [
    {
     "name": "stdout",
     "output_type": "stream",
     "text": [
      "mean cv accuracy: 0.95\n"
     ]
    }
   ],
   "source": [
    "# Get a mean, 5-fold cross-validation accuracy score \n",
    "#   for a LogisticRegression model with default parameter settings\n",
    "#   using X_train,y_train.\n",
    "scores = cross_val_score(LogisticRegression(),X_train,y_train,cv=5)\n",
    "print(f'mean cv accuracy: {np.mean(scores):0.2f}')"
   ]
  },
  {
   "cell_type": "code",
   "execution_count": 13,
   "metadata": {},
   "outputs": [],
   "source": [
    "# Retrain a LogisticRegression model with default parameters on the full training set.\n",
    "lr = LogisticRegression().fit(X_train,y_train)"
   ]
  },
  {
   "cell_type": "code",
   "execution_count": 15,
   "metadata": {},
   "outputs": [
    {
     "name": "stdout",
     "output_type": "stream",
     "text": [
      "test-set accuracy: 0.96\n"
     ]
    }
   ],
   "source": [
    "# Evaluate generalization accuracy of the trained LogisticRegression model on the test set.\n",
    "acc = lr.score(X_test, y_test)\n",
    "print(f'test-set accuracy: {acc:0.2f}')"
   ]
  },
  {
   "cell_type": "markdown",
   "metadata": {},
   "source": [
    "### Question: Does our LogisticRegression model seem to be overfitting, underfitting or performing well and why?\n",
    "\n",
    "Performing well: given the model was trained on training data and had a similar accuracy score on the training and testing sets, it shows that the model is not overfit or underfit. "
   ]
  }
 ],
 "metadata": {
  "kernelspec": {
   "display_name": "eods-f19",
   "language": "python",
   "name": "eods-f19"
  },
  "language_info": {
   "codemirror_mode": {
    "name": "ipython",
    "version": 3
   },
   "file_extension": ".py",
   "mimetype": "text/x-python",
   "name": "python",
   "nbconvert_exporter": "python",
   "pygments_lexer": "ipython3",
   "version": "3.7.4"
  }
 },
 "nbformat": 4,
 "nbformat_minor": 2
}
