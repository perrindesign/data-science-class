{
 "cells": [
  {
   "cell_type": "markdown",
   "metadata": {},
   "source": [
    "# Week 6 Quiz\n",
    "\n",
    "## [Name] - [UNI]"
   ]
  },
  {
   "cell_type": "code",
   "execution_count": null,
   "metadata": {},
   "outputs": [],
   "source": [
    "import numpy as np\n",
    "from sklearn.model_selection import train_test_split\n",
    "from sklearn.datasets import load_breast_cancer\n",
    "from sklearn.dummy import DummyClassifier\n",
    "from sklearn.linear_model import LogisticRegression\n",
    "from sklearn.model_selection import cross_val_score\n",
    "\n",
    "# to supress warnings about a change in the LogisticRegression solver\n",
    "import warnings\n",
    "warnings.simplefilter(action='ignore', category=FutureWarning)"
   ]
  },
  {
   "cell_type": "code",
   "execution_count": null,
   "metadata": {},
   "outputs": [],
   "source": [
    "# Load the sample breast_cancer dataset from Scikit-Learn\n",
    "#   returning just the X features matrix and y label vector.\n",
    "#   The target here is a binary classification task.\n",
    "#   For more information, see https://scikit-learn.org/stable/datasets/index.html#breast-cancer-dataset\n",
    "X,y = load_breast_cancer(return_X_y=True)"
   ]
  },
  {
   "cell_type": "code",
   "execution_count": null,
   "metadata": {},
   "outputs": [],
   "source": [
    "# Split X and y into X_train,X_test,y_train,y_test \n",
    "#   using train_test_split, stratify using y.\n",
    "____"
   ]
  },
  {
   "cell_type": "code",
   "execution_count": null,
   "metadata": {},
   "outputs": [],
   "source": [
    "# Get a baseline, mean 5-fold cross-validation accuracy score \n",
    "#   for a DummyClassifier with default parameter settings \n",
    "#   using X_train,y_train.\n",
    "scores = ____\n",
    "print(f'mean cv accuracy: {____:0.2f}')"
   ]
  },
  {
   "cell_type": "code",
   "execution_count": null,
   "metadata": {},
   "outputs": [],
   "source": [
    "# Get a mean, 5-fold cross-validation accuracy score \n",
    "#   for a LogisticRegression model with default parameter settings\n",
    "#   using X_train,y_train.\n",
    "scores = ____\n",
    "print(f'mean cv accuracy: {____:0.2f}')"
   ]
  },
  {
   "cell_type": "code",
   "execution_count": null,
   "metadata": {},
   "outputs": [],
   "source": [
    "# Retrain a LogisticRegression model with default parameters on the full training set.\n",
    "lr = ____"
   ]
  },
  {
   "cell_type": "code",
   "execution_count": null,
   "metadata": {},
   "outputs": [],
   "source": [
    "# Evaluate generalization accuracy of the trained LogisticRegression model on the test set.\n",
    "acc = ____\n",
    "print(f'test-set accuracy: {____:0.2f}')"
   ]
  },
  {
   "cell_type": "markdown",
   "metadata": {},
   "source": [
    "### Question: Does our LogisticRegression model seem to be overfitting, underfitting or performing well and why?\n",
    "\n",
    "____"
   ]
  }
 ],
 "metadata": {
  "kernelspec": {
   "display_name": "eods-f19",
   "language": "python",
   "name": "eods-f19"
  },
  "language_info": {
   "codemirror_mode": {
    "name": "ipython",
    "version": 3
   },
   "file_extension": ".py",
   "mimetype": "text/x-python",
   "name": "python",
   "nbconvert_exporter": "python",
   "pygments_lexer": "ipython3",
   "version": "3.7.4"
  }
 },
 "nbformat": 4,
 "nbformat_minor": 2
}
