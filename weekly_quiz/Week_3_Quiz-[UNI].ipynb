{
 "cells": [
  {
   "cell_type": "markdown",
   "metadata": {},
   "source": [
    "# Week 3 Quiz\n",
    "\n",
    "## [Name] - [UNI]"
   ]
  },
  {
   "cell_type": "code",
   "execution_count": null,
   "metadata": {},
   "outputs": [],
   "source": [
    "import pandas as pd\n",
    "import numpy as np\n",
    "import matplotlib.pyplot as plt\n",
    "import seaborn as sns\n",
    "\n",
    "sns.set_style('darkgrid')\n",
    "\n",
    "%matplotlib inline"
   ]
  },
  {
   "cell_type": "code",
   "execution_count": null,
   "metadata": {},
   "outputs": [],
   "source": [
    "# Use pandas to read in 'wine_dataset.csv'\n",
    "# This is a dataset of various wines with a target of categorical variable 'class'\n"
   ]
  },
  {
   "cell_type": "code",
   "execution_count": null,
   "metadata": {},
   "outputs": [],
   "source": [
    "# 1. Create two axes using plt.subplots with 1 row , 2 columns, figsize=(10,4)\n",
    "\n",
    "\n",
    "# 2.1 In the first axis, plot the distribution of df.PRICE using sns.distplot with rug=True\n",
    "\n",
    "\n",
    "# 2.2 Add the title 'Wine Alcohol Content' to ax[0] using set_title\n",
    "\n",
    "\n",
    "# 3.1 In the second axis, plot the distribution of df.TAX using sns.boxplot with rug=True\n",
    "\n",
    "\n",
    "# 3.2 Add the title 'Wine Color Intensity' to ax[0] using set_title\n",
    "\n"
   ]
  },
  {
   "cell_type": "code",
   "execution_count": null,
   "metadata": {},
   "outputs": [],
   "source": [
    "# Visualize correlation between alcohol and color_intensity using jointplot\n"
   ]
  },
  {
   "cell_type": "code",
   "execution_count": null,
   "metadata": {},
   "outputs": [],
   "source": [
    "# plot x=class vs y=alchohol using sns.barplot, capture the return value as ax\n",
    "\n",
    "# set the y-axis limits to (12,14) using ax.set_ylim\n"
   ]
  },
  {
   "cell_type": "markdown",
   "metadata": {},
   "source": [
    "### What's being plotted in the catplot?\n",
    "\n",
    "\n",
    "\n",
    "### Does it look like there is a difference in alcohol level between class? Why?\n",
    "\n"
   ]
  },
  {
   "cell_type": "code",
   "execution_count": null,
   "metadata": {},
   "outputs": [],
   "source": [
    "# when completed, \n",
    "#   make sure you've replaced [Name] and [UNI] in the first cell and filename\n",
    "#   use Print Preview, Print-> Save to pdf \n",
    "#   and post pdf to GradeScope"
   ]
  }
 ],
 "metadata": {
  "kernelspec": {
   "display_name": "eods-f19",
   "language": "python",
   "name": "eods-f19"
  },
  "language_info": {
   "codemirror_mode": {
    "name": "ipython",
    "version": 3
   },
   "file_extension": ".py",
   "mimetype": "text/x-python",
   "name": "python",
   "nbconvert_exporter": "python",
   "pygments_lexer": "ipython3",
   "version": "3.7.4"
  }
 },
 "nbformat": 4,
 "nbformat_minor": 2
}
